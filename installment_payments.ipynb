{
 "cells": [
  {
   "cell_type": "markdown",
   "id": "099a9fcd-39fd-4d70-807d-b5baeea13215",
   "metadata": {},
   "source": [
    "# INSTALLMENTS_PAYMENTS"
   ]
  },
  {
   "cell_type": "code",
   "execution_count": 1,
   "id": "840491b9-00f0-4eff-bda3-922c7f2dc48e",
   "metadata": {
    "tags": []
   },
   "outputs": [],
   "source": [
    "import pandas as pd\n",
    "import numpy as np\n",
    "import seaborn as sns\n",
    "import matplotlib.pyplot as plt"
   ]
  },
  {
   "cell_type": "code",
   "execution_count": 2,
   "id": "113edcf4-e3f9-414b-bb4f-356fb7563996",
   "metadata": {
    "tags": []
   },
   "outputs": [],
   "source": [
    "pd.set_option('display.max_columns', None)"
   ]
  },
  {
   "cell_type": "code",
   "execution_count": 3,
   "id": "b8700db8-9dc1-408a-8790-8f73d5bba994",
   "metadata": {
    "tags": []
   },
   "outputs": [],
   "source": [
    "installments_payments = pd.read_csv('installments_payments.csv')"
   ]
  },
  {
   "cell_type": "markdown",
   "id": "3d8d8eb2-d6a7-4d1d-94ed-fa79dbb21be8",
   "metadata": {},
   "source": [
    "## INFORMASI AWAL"
   ]
  },
  {
   "cell_type": "code",
   "execution_count": 4,
   "id": "409f5bbb-c663-44f0-8769-3430c742b474",
   "metadata": {
    "tags": []
   },
   "outputs": [
    {
     "data": {
      "text/html": [
       "<div>\n",
       "<style scoped>\n",
       "    .dataframe tbody tr th:only-of-type {\n",
       "        vertical-align: middle;\n",
       "    }\n",
       "\n",
       "    .dataframe tbody tr th {\n",
       "        vertical-align: top;\n",
       "    }\n",
       "\n",
       "    .dataframe thead th {\n",
       "        text-align: right;\n",
       "    }\n",
       "</style>\n",
       "<table border=\"1\" class=\"dataframe\">\n",
       "  <thead>\n",
       "    <tr style=\"text-align: right;\">\n",
       "      <th></th>\n",
       "      <th>SK_ID_PREV</th>\n",
       "      <th>SK_ID_CURR</th>\n",
       "      <th>NUM_INSTALMENT_VERSION</th>\n",
       "      <th>NUM_INSTALMENT_NUMBER</th>\n",
       "      <th>DAYS_INSTALMENT</th>\n",
       "      <th>DAYS_ENTRY_PAYMENT</th>\n",
       "      <th>AMT_INSTALMENT</th>\n",
       "      <th>AMT_PAYMENT</th>\n",
       "    </tr>\n",
       "  </thead>\n",
       "  <tbody>\n",
       "    <tr>\n",
       "      <th>0</th>\n",
       "      <td>1054186</td>\n",
       "      <td>161674</td>\n",
       "      <td>1.0</td>\n",
       "      <td>6</td>\n",
       "      <td>-1180.0</td>\n",
       "      <td>-1187.0</td>\n",
       "      <td>6948.360</td>\n",
       "      <td>6948.360</td>\n",
       "    </tr>\n",
       "    <tr>\n",
       "      <th>1</th>\n",
       "      <td>1330831</td>\n",
       "      <td>151639</td>\n",
       "      <td>0.0</td>\n",
       "      <td>34</td>\n",
       "      <td>-2156.0</td>\n",
       "      <td>-2156.0</td>\n",
       "      <td>1716.525</td>\n",
       "      <td>1716.525</td>\n",
       "    </tr>\n",
       "    <tr>\n",
       "      <th>2</th>\n",
       "      <td>2085231</td>\n",
       "      <td>193053</td>\n",
       "      <td>2.0</td>\n",
       "      <td>1</td>\n",
       "      <td>-63.0</td>\n",
       "      <td>-63.0</td>\n",
       "      <td>25425.000</td>\n",
       "      <td>25425.000</td>\n",
       "    </tr>\n",
       "    <tr>\n",
       "      <th>3</th>\n",
       "      <td>2452527</td>\n",
       "      <td>199697</td>\n",
       "      <td>1.0</td>\n",
       "      <td>3</td>\n",
       "      <td>-2418.0</td>\n",
       "      <td>-2426.0</td>\n",
       "      <td>24350.130</td>\n",
       "      <td>24350.130</td>\n",
       "    </tr>\n",
       "    <tr>\n",
       "      <th>4</th>\n",
       "      <td>2714724</td>\n",
       "      <td>167756</td>\n",
       "      <td>1.0</td>\n",
       "      <td>2</td>\n",
       "      <td>-1383.0</td>\n",
       "      <td>-1366.0</td>\n",
       "      <td>2165.040</td>\n",
       "      <td>2160.585</td>\n",
       "    </tr>\n",
       "  </tbody>\n",
       "</table>\n",
       "</div>"
      ],
      "text/plain": [
       "   SK_ID_PREV  SK_ID_CURR  NUM_INSTALMENT_VERSION  NUM_INSTALMENT_NUMBER  \\\n",
       "0     1054186      161674                     1.0                      6   \n",
       "1     1330831      151639                     0.0                     34   \n",
       "2     2085231      193053                     2.0                      1   \n",
       "3     2452527      199697                     1.0                      3   \n",
       "4     2714724      167756                     1.0                      2   \n",
       "\n",
       "   DAYS_INSTALMENT  DAYS_ENTRY_PAYMENT  AMT_INSTALMENT  AMT_PAYMENT  \n",
       "0          -1180.0             -1187.0        6948.360     6948.360  \n",
       "1          -2156.0             -2156.0        1716.525     1716.525  \n",
       "2            -63.0               -63.0       25425.000    25425.000  \n",
       "3          -2418.0             -2426.0       24350.130    24350.130  \n",
       "4          -1383.0             -1366.0        2165.040     2160.585  "
      ]
     },
     "execution_count": 4,
     "metadata": {},
     "output_type": "execute_result"
    }
   ],
   "source": [
    "installments_payments.head()"
   ]
  },
  {
   "cell_type": "code",
   "execution_count": 5,
   "id": "899aa94f-b419-408f-949c-02aa94d3ef1d",
   "metadata": {
    "tags": []
   },
   "outputs": [
    {
     "name": "stdout",
     "output_type": "stream",
     "text": [
      "<class 'pandas.core.frame.DataFrame'>\n",
      "RangeIndex: 13605401 entries, 0 to 13605400\n",
      "Data columns (total 8 columns):\n",
      " #   Column                  Dtype  \n",
      "---  ------                  -----  \n",
      " 0   SK_ID_PREV              int64  \n",
      " 1   SK_ID_CURR              int64  \n",
      " 2   NUM_INSTALMENT_VERSION  float64\n",
      " 3   NUM_INSTALMENT_NUMBER   int64  \n",
      " 4   DAYS_INSTALMENT         float64\n",
      " 5   DAYS_ENTRY_PAYMENT      float64\n",
      " 6   AMT_INSTALMENT          float64\n",
      " 7   AMT_PAYMENT             float64\n",
      "dtypes: float64(5), int64(3)\n",
      "memory usage: 830.4 MB\n"
     ]
    }
   ],
   "source": [
    "installments_payments.info()"
   ]
  },
  {
   "cell_type": "markdown",
   "id": "431ec448-57d1-4aee-be34-ef080cac7167",
   "metadata": {},
   "source": [
    "### Describe"
   ]
  },
  {
   "cell_type": "code",
   "execution_count": 6,
   "id": "cf5e8248-b388-4dd2-87fa-96c34ff2e53c",
   "metadata": {
    "tags": []
   },
   "outputs": [],
   "source": [
    "pd.set_option('display.float_format', '{:.2f}'.format)"
   ]
  },
  {
   "cell_type": "code",
   "execution_count": 7,
   "id": "63730061-c45f-430f-abe4-555de51316ee",
   "metadata": {
    "tags": []
   },
   "outputs": [
    {
     "data": {
      "text/html": [
       "<div>\n",
       "<style scoped>\n",
       "    .dataframe tbody tr th:only-of-type {\n",
       "        vertical-align: middle;\n",
       "    }\n",
       "\n",
       "    .dataframe tbody tr th {\n",
       "        vertical-align: top;\n",
       "    }\n",
       "\n",
       "    .dataframe thead th {\n",
       "        text-align: right;\n",
       "    }\n",
       "</style>\n",
       "<table border=\"1\" class=\"dataframe\">\n",
       "  <thead>\n",
       "    <tr style=\"text-align: right;\">\n",
       "      <th></th>\n",
       "      <th>count</th>\n",
       "      <th>mean</th>\n",
       "      <th>std</th>\n",
       "      <th>min</th>\n",
       "      <th>25%</th>\n",
       "      <th>50%</th>\n",
       "      <th>75%</th>\n",
       "      <th>max</th>\n",
       "    </tr>\n",
       "  </thead>\n",
       "  <tbody>\n",
       "    <tr>\n",
       "      <th>SK_ID_PREV</th>\n",
       "      <td>13605401.00</td>\n",
       "      <td>1903364.97</td>\n",
       "      <td>536202.91</td>\n",
       "      <td>1000001.00</td>\n",
       "      <td>1434191.00</td>\n",
       "      <td>1896520.00</td>\n",
       "      <td>2369094.00</td>\n",
       "      <td>2843499.00</td>\n",
       "    </tr>\n",
       "    <tr>\n",
       "      <th>SK_ID_CURR</th>\n",
       "      <td>13605401.00</td>\n",
       "      <td>278444.88</td>\n",
       "      <td>102718.31</td>\n",
       "      <td>100001.00</td>\n",
       "      <td>189639.00</td>\n",
       "      <td>278685.00</td>\n",
       "      <td>367530.00</td>\n",
       "      <td>456255.00</td>\n",
       "    </tr>\n",
       "    <tr>\n",
       "      <th>NUM_INSTALMENT_VERSION</th>\n",
       "      <td>13605401.00</td>\n",
       "      <td>0.86</td>\n",
       "      <td>1.04</td>\n",
       "      <td>0.00</td>\n",
       "      <td>0.00</td>\n",
       "      <td>1.00</td>\n",
       "      <td>1.00</td>\n",
       "      <td>178.00</td>\n",
       "    </tr>\n",
       "    <tr>\n",
       "      <th>NUM_INSTALMENT_NUMBER</th>\n",
       "      <td>13605401.00</td>\n",
       "      <td>18.87</td>\n",
       "      <td>26.66</td>\n",
       "      <td>1.00</td>\n",
       "      <td>4.00</td>\n",
       "      <td>8.00</td>\n",
       "      <td>19.00</td>\n",
       "      <td>277.00</td>\n",
       "    </tr>\n",
       "    <tr>\n",
       "      <th>DAYS_INSTALMENT</th>\n",
       "      <td>13605401.00</td>\n",
       "      <td>-1042.27</td>\n",
       "      <td>800.95</td>\n",
       "      <td>-2922.00</td>\n",
       "      <td>-1654.00</td>\n",
       "      <td>-818.00</td>\n",
       "      <td>-361.00</td>\n",
       "      <td>-1.00</td>\n",
       "    </tr>\n",
       "    <tr>\n",
       "      <th>DAYS_ENTRY_PAYMENT</th>\n",
       "      <td>13602496.00</td>\n",
       "      <td>-1051.11</td>\n",
       "      <td>800.59</td>\n",
       "      <td>-4921.00</td>\n",
       "      <td>-1662.00</td>\n",
       "      <td>-827.00</td>\n",
       "      <td>-370.00</td>\n",
       "      <td>-1.00</td>\n",
       "    </tr>\n",
       "    <tr>\n",
       "      <th>AMT_INSTALMENT</th>\n",
       "      <td>13605401.00</td>\n",
       "      <td>17050.91</td>\n",
       "      <td>50570.25</td>\n",
       "      <td>0.00</td>\n",
       "      <td>4226.09</td>\n",
       "      <td>8884.08</td>\n",
       "      <td>16710.21</td>\n",
       "      <td>3771487.85</td>\n",
       "    </tr>\n",
       "    <tr>\n",
       "      <th>AMT_PAYMENT</th>\n",
       "      <td>13602496.00</td>\n",
       "      <td>17238.22</td>\n",
       "      <td>54735.78</td>\n",
       "      <td>0.00</td>\n",
       "      <td>3398.26</td>\n",
       "      <td>8125.52</td>\n",
       "      <td>16108.42</td>\n",
       "      <td>3771487.85</td>\n",
       "    </tr>\n",
       "  </tbody>\n",
       "</table>\n",
       "</div>"
      ],
      "text/plain": [
       "                             count       mean       std        min        25%  \\\n",
       "SK_ID_PREV             13605401.00 1903364.97 536202.91 1000001.00 1434191.00   \n",
       "SK_ID_CURR             13605401.00  278444.88 102718.31  100001.00  189639.00   \n",
       "NUM_INSTALMENT_VERSION 13605401.00       0.86      1.04       0.00       0.00   \n",
       "NUM_INSTALMENT_NUMBER  13605401.00      18.87     26.66       1.00       4.00   \n",
       "DAYS_INSTALMENT        13605401.00   -1042.27    800.95   -2922.00   -1654.00   \n",
       "DAYS_ENTRY_PAYMENT     13602496.00   -1051.11    800.59   -4921.00   -1662.00   \n",
       "AMT_INSTALMENT         13605401.00   17050.91  50570.25       0.00    4226.09   \n",
       "AMT_PAYMENT            13602496.00   17238.22  54735.78       0.00    3398.26   \n",
       "\n",
       "                              50%        75%        max  \n",
       "SK_ID_PREV             1896520.00 2369094.00 2843499.00  \n",
       "SK_ID_CURR              278685.00  367530.00  456255.00  \n",
       "NUM_INSTALMENT_VERSION       1.00       1.00     178.00  \n",
       "NUM_INSTALMENT_NUMBER        8.00      19.00     277.00  \n",
       "DAYS_INSTALMENT           -818.00    -361.00      -1.00  \n",
       "DAYS_ENTRY_PAYMENT        -827.00    -370.00      -1.00  \n",
       "AMT_INSTALMENT            8884.08   16710.21 3771487.85  \n",
       "AMT_PAYMENT               8125.52   16108.42 3771487.85  "
      ]
     },
     "execution_count": 7,
     "metadata": {},
     "output_type": "execute_result"
    }
   ],
   "source": [
    "installments_payments.describe().transpose()"
   ]
  },
  {
   "cell_type": "markdown",
   "id": "410b2008-f26c-4bd8-9c72-605a2a8ac3ed",
   "metadata": {},
   "source": [
    "### Boxplot"
   ]
  },
  {
   "cell_type": "code",
   "execution_count": 8,
   "id": "4642cda0-2c56-45e9-9aad-ca9d47dd946d",
   "metadata": {
    "tags": []
   },
   "outputs": [],
   "source": [
    "kolom_numerikal = installments_payments.select_dtypes(include=['number']).columns"
   ]
  },
  {
   "cell_type": "code",
   "execution_count": 9,
   "id": "4b195866-f857-45c1-8122-1ddfa9692263",
   "metadata": {
    "tags": []
   },
   "outputs": [
    {
     "name": "stderr",
     "output_type": "stream",
     "text": [
      "C:\\Users\\sanny\\AppData\\Local\\Temp\\ipykernel_2316\\1133846785.py:6: UserWarning: The figure layout has changed to tight\n",
      "  plt.tight_layout()\n",
      "C:\\Users\\sanny\\AppData\\Local\\Temp\\ipykernel_2316\\1133846785.py:6: UserWarning: The figure layout has changed to tight\n",
      "  plt.tight_layout()\n",
      "C:\\Users\\sanny\\AppData\\Local\\Temp\\ipykernel_2316\\1133846785.py:6: UserWarning: The figure layout has changed to tight\n",
      "  plt.tight_layout()\n",
      "C:\\Users\\sanny\\AppData\\Local\\Temp\\ipykernel_2316\\1133846785.py:6: UserWarning: The figure layout has changed to tight\n",
      "  plt.tight_layout()\n",
      "C:\\Users\\sanny\\AppData\\Local\\Temp\\ipykernel_2316\\1133846785.py:6: UserWarning: The figure layout has changed to tight\n",
      "  plt.tight_layout()\n",
      "C:\\Users\\sanny\\AppData\\Local\\Temp\\ipykernel_2316\\1133846785.py:6: UserWarning: The figure layout has changed to tight\n",
      "  plt.tight_layout()\n",
      "C:\\Users\\sanny\\AppData\\Local\\Temp\\ipykernel_2316\\1133846785.py:6: UserWarning: The figure layout has changed to tight\n",
      "  plt.tight_layout()\n"
     ]
    },
    {
     "data": {
      "image/png": "[encoded data removed]",
      "text/plain": [
       "<Figure size 1200x300 with 8 Axes>"
      ]
     },
     "metadata": {},
     "output_type": "display_data"
    }
   ],
   "source": [
    "plt.figure(figsize=(12, 3))\n",
    "\n",
    "for i in range(0, len(kolom_numerikal)):\n",
    "    plt.subplot(1, 8, i+1)\n",
    "    sns.boxplot(y=installments_payments[kolom_numerikal[i]], color='blue', orient='v')\n",
    "    plt.tight_layout()"
   ]
  },
  {
   "cell_type": "markdown",
   "id": "b1715a57-0682-43ee-b940-2f5e2997cfe7",
   "metadata": {},
   "source": [
    "### Distplot"
   ]
  },
  {
   "cell_type": "raw",
   "id": "3aee69c4-838e-4b19-b33f-f3a636572e41",
   "metadata": {},
   "source": [
    "plt.figure(figsize=(12, 4))\n",
    "for i in range(0, len(kolom_numerikal)):\n",
    "    plt.subplot(2, 5, i+1)\n",
    "    sns.distplot(installments_payments[kolom_numerikal[i]], color='gray')\n",
    "    plt.tight_layout()"
   ]
  },
  {
   "cell_type": "markdown",
   "id": "fd88e256-82f6-4b00-b1d0-9c6cea56d517",
   "metadata": {},
   "source": [
    "### Heatmap"
   ]
  },
  {
   "cell_type": "code",
   "execution_count": 10,
   "id": "602be96a-cf6f-4155-bf0a-e9e6bb0a58eb",
   "metadata": {
    "tags": []
   },
   "outputs": [
    {
     "data": {
      "text/plain": [
       "<Axes: >"
      ]
     },
     "execution_count": 10,
     "metadata": {},
     "output_type": "execute_result"
    },
    {
     "data": {
      "image/png": "[encoded data removed]",
      "text/plain": [
       "<Figure size 1200x1000 with 2 Axes>"
      ]
     },
     "metadata": {},
     "output_type": "display_data"
    }
   ],
   "source": [
    "plt.figure(figsize=(12, 10))\n",
    "sns.heatmap(installments_payments[kolom_numerikal].corr(), cmap='viridis', annot=True, fmt='.2f')"
   ]
  },
  {
   "cell_type": "markdown",
   "id": "5a6b8a1d-8469-410f-b52a-e02943b7c568",
   "metadata": {},
   "source": [
    "# DATA PREPROCESSING"
   ]
  },
  {
   "cell_type": "markdown",
   "id": "3968f92a-dfb1-4ee7-9e12-85df5e1d2690",
   "metadata": {},
   "source": [
    "## DROP KOLOM REDUNDAN"
   ]
  },
  {
   "cell_type": "code",
   "execution_count": 11,
   "id": "5068e069-7ba7-4e8d-8a4d-5d335ab5f9ca",
   "metadata": {
    "tags": []
   },
   "outputs": [],
   "source": [
    "kolom_dihapus = ['AMT_INSTALMENT', 'DAYS_ENTRY_PAYMENT']\n",
    "\n",
    "installments_payments.drop(columns=kolom_dihapus, inplace=True)"
   ]
  },
  {
   "cell_type": "markdown",
   "id": "7997d10f-18d3-4a54-9773-c2218ca988c6",
   "metadata": {},
   "source": [
    "## MISSING VALUES"
   ]
  },
  {
   "cell_type": "markdown",
   "id": "ceec595c-ed1d-44de-9d8f-3517287765f5",
   "metadata": {},
   "source": [
    "### Cek Missing Values"
   ]
  },
  {
   "cell_type": "code",
   "execution_count": 12,
   "id": "6bffb8dd-4a6a-4dce-8278-e9511bfecad3",
   "metadata": {
    "tags": []
   },
   "outputs": [
    {
     "name": "stdout",
     "output_type": "stream",
     "text": [
      "             Jumlah Missing Values  Persentase Missing Values (%)\n",
      "AMT_PAYMENT                   2905                           0.02\n"
     ]
    }
   ],
   "source": [
    "# Hitung jumlah missing values untuk setiap kolom\n",
    "jumlah_missing = installments_payments.isnull().sum()\n",
    "\n",
    "# Hitung persentase missing values untuk setiap kolom\n",
    "persentase_missing = round((jumlah_missing / len(installments_payments)) * 100, 2)\n",
    "\n",
    "# Gabungkan hasil dalam satu DataFrame\n",
    "missing_summary = pd.DataFrame({\n",
    "    'Jumlah Missing Values': jumlah_missing,\n",
    "    'Persentase Missing Values (%)': persentase_missing\n",
    "})\n",
    "\n",
    "# Filter hanya kolom yang memiliki missing values\n",
    "missing_summary_filtered = missing_summary[missing_summary['Jumlah Missing Values'] > 0]\n",
    "\n",
    "print(missing_summary_filtered)"
   ]
  },
  {
   "cell_type": "markdown",
   "id": "5aac8a84-29e7-4ea6-bafc-8acfd9129a40",
   "metadata": {},
   "source": [
    "### Penanganan Missing values"
   ]
  },
  {
   "cell_type": "code",
   "execution_count": 13,
   "id": "1bc4e58d-7647-44ea-8c70-b8b37fe64168",
   "metadata": {
    "tags": []
   },
   "outputs": [],
   "source": [
    "# Hapus baris yang nilai Missing Valuesnya < 10%\n",
    "threshold = 0.1  # 10%\n",
    "columns_with_few_missing = installments_payments.columns[installments_payments.isnull().mean() < threshold]\n",
    "\n",
    "# Hapus baris yang memiliki nilai null di kolom tersebut\n",
    "installments_payments = installments_payments.dropna(subset=columns_with_few_missing)"
   ]
  },
  {
   "cell_type": "markdown",
   "id": "b306e6ce-9f5e-42bc-8889-9066e3fc2ff5",
   "metadata": {},
   "source": [
    "### Cek kembali Missing Values"
   ]
  },
  {
   "cell_type": "code",
   "execution_count": 14,
   "id": "3c964edd-dbd8-4a4c-b3ae-7ef354b65756",
   "metadata": {
    "tags": []
   },
   "outputs": [
    {
     "data": {
      "text/plain": [
       "SK_ID_PREV                0\n",
       "SK_ID_CURR                0\n",
       "NUM_INSTALMENT_VERSION    0\n",
       "NUM_INSTALMENT_NUMBER     0\n",
       "DAYS_INSTALMENT           0\n",
       "AMT_PAYMENT               0\n",
       "dtype: int64"
      ]
     },
     "execution_count": 14,
     "metadata": {},
     "output_type": "execute_result"
    }
   ],
   "source": [
    "installments_payments.isna().sum()"
   ]
  },
  {
   "cell_type": "markdown",
   "id": "fc550fe0-e49d-4f17-a996-a53320a45eab",
   "metadata": {},
   "source": [
    "## OUTLIERS"
   ]
  },
  {
   "cell_type": "code",
   "execution_count": 15,
   "id": "6be5880b-d920-48c0-bdfe-951b5f50541d",
   "metadata": {
    "tags": []
   },
   "outputs": [
    {
     "data": {
      "text/html": [
       "<div>\n",
       "<style scoped>\n",
       "    .dataframe tbody tr th:only-of-type {\n",
       "        vertical-align: middle;\n",
       "    }\n",
       "\n",
       "    .dataframe tbody tr th {\n",
       "        vertical-align: top;\n",
       "    }\n",
       "\n",
       "    .dataframe thead th {\n",
       "        text-align: right;\n",
       "    }\n",
       "</style>\n",
       "<table border=\"1\" class=\"dataframe\">\n",
       "  <thead>\n",
       "    <tr style=\"text-align: right;\">\n",
       "      <th></th>\n",
       "      <th>count</th>\n",
       "      <th>mean</th>\n",
       "      <th>std</th>\n",
       "      <th>min</th>\n",
       "      <th>25%</th>\n",
       "      <th>50%</th>\n",
       "      <th>75%</th>\n",
       "      <th>max</th>\n",
       "    </tr>\n",
       "  </thead>\n",
       "  <tbody>\n",
       "    <tr>\n",
       "      <th>SK_ID_PREV</th>\n",
       "      <td>13602496.00</td>\n",
       "      <td>1903364.13</td>\n",
       "      <td>536206.56</td>\n",
       "      <td>1000001.00</td>\n",
       "      <td>1434182.00</td>\n",
       "      <td>1896524.00</td>\n",
       "      <td>2369094.00</td>\n",
       "      <td>2843499.00</td>\n",
       "    </tr>\n",
       "    <tr>\n",
       "      <th>SK_ID_CURR</th>\n",
       "      <td>13602496.00</td>\n",
       "      <td>278444.07</td>\n",
       "      <td>102718.47</td>\n",
       "      <td>100001.00</td>\n",
       "      <td>189639.00</td>\n",
       "      <td>278684.00</td>\n",
       "      <td>367530.00</td>\n",
       "      <td>456255.00</td>\n",
       "    </tr>\n",
       "    <tr>\n",
       "      <th>NUM_INSTALMENT_VERSION</th>\n",
       "      <td>13602496.00</td>\n",
       "      <td>0.86</td>\n",
       "      <td>1.03</td>\n",
       "      <td>0.00</td>\n",
       "      <td>0.00</td>\n",
       "      <td>1.00</td>\n",
       "      <td>1.00</td>\n",
       "      <td>73.00</td>\n",
       "    </tr>\n",
       "    <tr>\n",
       "      <th>NUM_INSTALMENT_NUMBER</th>\n",
       "      <td>13602496.00</td>\n",
       "      <td>18.87</td>\n",
       "      <td>26.66</td>\n",
       "      <td>1.00</td>\n",
       "      <td>4.00</td>\n",
       "      <td>8.00</td>\n",
       "      <td>19.00</td>\n",
       "      <td>277.00</td>\n",
       "    </tr>\n",
       "    <tr>\n",
       "      <th>DAYS_INSTALMENT</th>\n",
       "      <td>13602496.00</td>\n",
       "      <td>-1042.33</td>\n",
       "      <td>800.95</td>\n",
       "      <td>-2922.00</td>\n",
       "      <td>-1654.00</td>\n",
       "      <td>-818.00</td>\n",
       "      <td>-361.00</td>\n",
       "      <td>-1.00</td>\n",
       "    </tr>\n",
       "    <tr>\n",
       "      <th>AMT_PAYMENT</th>\n",
       "      <td>13602496.00</td>\n",
       "      <td>17238.22</td>\n",
       "      <td>54735.78</td>\n",
       "      <td>0.00</td>\n",
       "      <td>3398.26</td>\n",
       "      <td>8125.52</td>\n",
       "      <td>16108.42</td>\n",
       "      <td>3771487.85</td>\n",
       "    </tr>\n",
       "  </tbody>\n",
       "</table>\n",
       "</div>"
      ],
      "text/plain": [
       "                             count       mean       std        min        25%  \\\n",
       "SK_ID_PREV             13602496.00 1903364.13 536206.56 1000001.00 1434182.00   \n",
       "SK_ID_CURR             13602496.00  278444.07 102718.47  100001.00  189639.00   \n",
       "NUM_INSTALMENT_VERSION 13602496.00       0.86      1.03       0.00       0.00   \n",
       "NUM_INSTALMENT_NUMBER  13602496.00      18.87     26.66       1.00       4.00   \n",
       "DAYS_INSTALMENT        13602496.00   -1042.33    800.95   -2922.00   -1654.00   \n",
       "AMT_PAYMENT            13602496.00   17238.22  54735.78       0.00    3398.26   \n",
       "\n",
       "                              50%        75%        max  \n",
       "SK_ID_PREV             1896524.00 2369094.00 2843499.00  \n",
       "SK_ID_CURR              278684.00  367530.00  456255.00  \n",
       "NUM_INSTALMENT_VERSION       1.00       1.00      73.00  \n",
       "NUM_INSTALMENT_NUMBER        8.00      19.00     277.00  \n",
       "DAYS_INSTALMENT           -818.00    -361.00      -1.00  \n",
       "AMT_PAYMENT               8125.52   16108.42 3771487.85  "
      ]
     },
     "execution_count": 15,
     "metadata": {},
     "output_type": "execute_result"
    }
   ],
   "source": [
    "installments_payments.describe().transpose()"
   ]
  },
  {
   "cell_type": "markdown",
   "id": "7880673f-f571-4c81-ad60-1bf5593d08b0",
   "metadata": {},
   "source": [
    "### Menggeser Kolom dengan Nilai Negatif"
   ]
  },
  {
   "cell_type": "code",
   "execution_count": 16,
   "id": "455a0f4d-64f2-407a-b9e3-731ba3a0d36b",
   "metadata": {
    "tags": []
   },
   "outputs": [],
   "source": [
    "# Mencari nilai minimum pada kolom\n",
    "min_value = installments_payments['DAYS_INSTALMENT'].min()\n",
    "\n",
    "# Jika ada nilai negatif, tambahkan nilai positif untuk menggeser semua nilai menjadi positif\n",
    "if min_value < 0:\n",
    "    installments_payments['DAYS_INSTALMENT'] = installments_payments['DAYS_INSTALMENT'] + abs(min_value)"
   ]
  },
  {
   "cell_type": "code",
   "execution_count": 17,
   "id": "e81b1633-cda8-49a5-bcdd-6342e96573aa",
   "metadata": {
    "tags": []
   },
   "outputs": [
    {
     "data": {
      "text/html": [
       "<div>\n",
       "<style scoped>\n",
       "    .dataframe tbody tr th:only-of-type {\n",
       "        vertical-align: middle;\n",
       "    }\n",
       "\n",
       "    .dataframe tbody tr th {\n",
       "        vertical-align: top;\n",
       "    }\n",
       "\n",
       "    .dataframe thead th {\n",
       "        text-align: right;\n",
       "    }\n",
       "</style>\n",
       "<table border=\"1\" class=\"dataframe\">\n",
       "  <thead>\n",
       "    <tr style=\"text-align: right;\">\n",
       "      <th></th>\n",
       "      <th>count</th>\n",
       "      <th>mean</th>\n",
       "      <th>std</th>\n",
       "      <th>min</th>\n",
       "      <th>25%</th>\n",
       "      <th>50%</th>\n",
       "      <th>75%</th>\n",
       "      <th>max</th>\n",
       "    </tr>\n",
       "  </thead>\n",
       "  <tbody>\n",
       "    <tr>\n",
       "      <th>SK_ID_PREV</th>\n",
       "      <td>13602496.00</td>\n",
       "      <td>1903364.13</td>\n",
       "      <td>536206.56</td>\n",
       "      <td>1000001.00</td>\n",
       "      <td>1434182.00</td>\n",
       "      <td>1896524.00</td>\n",
       "      <td>2369094.00</td>\n",
       "      <td>2843499.00</td>\n",
       "    </tr>\n",
       "    <tr>\n",
       "      <th>SK_ID_CURR</th>\n",
       "      <td>13602496.00</td>\n",
       "      <td>278444.07</td>\n",
       "      <td>102718.47</td>\n",
       "      <td>100001.00</td>\n",
       "      <td>189639.00</td>\n",
       "      <td>278684.00</td>\n",
       "      <td>367530.00</td>\n",
       "      <td>456255.00</td>\n",
       "    </tr>\n",
       "    <tr>\n",
       "      <th>NUM_INSTALMENT_VERSION</th>\n",
       "      <td>13602496.00</td>\n",
       "      <td>0.86</td>\n",
       "      <td>1.03</td>\n",
       "      <td>0.00</td>\n",
       "      <td>0.00</td>\n",
       "      <td>1.00</td>\n",
       "      <td>1.00</td>\n",
       "      <td>73.00</td>\n",
       "    </tr>\n",
       "    <tr>\n",
       "      <th>NUM_INSTALMENT_NUMBER</th>\n",
       "      <td>13602496.00</td>\n",
       "      <td>18.87</td>\n",
       "      <td>26.66</td>\n",
       "      <td>1.00</td>\n",
       "      <td>4.00</td>\n",
       "      <td>8.00</td>\n",
       "      <td>19.00</td>\n",
       "      <td>277.00</td>\n",
       "    </tr>\n",
       "    <tr>\n",
       "      <th>DAYS_INSTALMENT</th>\n",
       "      <td>13602496.00</td>\n",
       "      <td>1879.67</td>\n",
       "      <td>800.95</td>\n",
       "      <td>0.00</td>\n",
       "      <td>1268.00</td>\n",
       "      <td>2104.00</td>\n",
       "      <td>2561.00</td>\n",
       "      <td>2921.00</td>\n",
       "    </tr>\n",
       "    <tr>\n",
       "      <th>AMT_PAYMENT</th>\n",
       "      <td>13602496.00</td>\n",
       "      <td>17238.22</td>\n",
       "      <td>54735.78</td>\n",
       "      <td>0.00</td>\n",
       "      <td>3398.26</td>\n",
       "      <td>8125.52</td>\n",
       "      <td>16108.42</td>\n",
       "      <td>3771487.85</td>\n",
       "    </tr>\n",
       "  </tbody>\n",
       "</table>\n",
       "</div>"
      ],
      "text/plain": [
       "                             count       mean       std        min        25%  \\\n",
       "SK_ID_PREV             13602496.00 1903364.13 536206.56 1000001.00 1434182.00   \n",
       "SK_ID_CURR             13602496.00  278444.07 102718.47  100001.00  189639.00   \n",
       "NUM_INSTALMENT_VERSION 13602496.00       0.86      1.03       0.00       0.00   \n",
       "NUM_INSTALMENT_NUMBER  13602496.00      18.87     26.66       1.00       4.00   \n",
       "DAYS_INSTALMENT        13602496.00    1879.67    800.95       0.00    1268.00   \n",
       "AMT_PAYMENT            13602496.00   17238.22  54735.78       0.00    3398.26   \n",
       "\n",
       "                              50%        75%        max  \n",
       "SK_ID_PREV             1896524.00 2369094.00 2843499.00  \n",
       "SK_ID_CURR              278684.00  367530.00  456255.00  \n",
       "NUM_INSTALMENT_VERSION       1.00       1.00      73.00  \n",
       "NUM_INSTALMENT_NUMBER        8.00      19.00     277.00  \n",
       "DAYS_INSTALMENT           2104.00    2561.00    2921.00  \n",
       "AMT_PAYMENT               8125.52   16108.42 3771487.85  "
      ]
     },
     "execution_count": 17,
     "metadata": {},
     "output_type": "execute_result"
    }
   ],
   "source": [
    "installments_payments.describe().transpose()"
   ]
  },
  {
   "cell_type": "markdown",
   "id": "68115a84-d12c-409d-8fc1-793aa1c43a06",
   "metadata": {},
   "source": [
    "### Log Transformation"
   ]
  },
  {
   "cell_type": "code",
   "execution_count": 18,
   "id": "ad9d03b4-98ee-4750-9d60-c3502c5dc27f",
   "metadata": {
    "tags": []
   },
   "outputs": [],
   "source": [
    "# Kolom ini dihapus karena tidak akan digunakan kembali\n",
    "installments_payments = installments_payments.drop(columns=['SK_ID_PREV'])"
   ]
  },
  {
   "cell_type": "code",
   "execution_count": 19,
   "id": "920963f6-86d2-4438-9cd6-9b8755f4f732",
   "metadata": {
    "tags": []
   },
   "outputs": [
    {
     "name": "stdout",
     "output_type": "stream",
     "text": [
      "<class 'pandas.core.frame.DataFrame'>\n"
     ]
    }
   ],
   "source": [
    "print(type(installments_payments))"
   ]
  },
  {
   "cell_type": "code",
   "execution_count": 20,
   "id": "2ccb890c-f0a1-4e60-a768-a147b9fb463c",
   "metadata": {
    "tags": []
   },
   "outputs": [],
   "source": [
    "installments_payments = pd.DataFrame(installments_payments)"
   ]
  },
  {
   "cell_type": "code",
   "execution_count": 21,
   "id": "10035008-54bf-4749-87bc-151cf9ce71b8",
   "metadata": {
    "tags": []
   },
   "outputs": [],
   "source": [
    "# Pilih semua kolom numerik kecuali SK_ID_CURR\n",
    "numeric_cols = installments_payments.select_dtypes(include=[np.number]).columns\n",
    "numeric_cols = numeric_cols.drop('SK_ID_CURR')\n",
    "\n",
    "# Terapkan log transformation hanya pada kolom numerik yang tersisa\n",
    "installments_payments[numeric_cols] = installments_payments[numeric_cols].apply(np.log1p)"
   ]
  },
  {
   "cell_type": "code",
   "execution_count": 22,
   "id": "79651a33-f65f-4beb-b627-731436bd8c26",
   "metadata": {
    "tags": []
   },
   "outputs": [
    {
     "data": {
      "text/html": [
       "<div>\n",
       "<style scoped>\n",
       "    .dataframe tbody tr th:only-of-type {\n",
       "        vertical-align: middle;\n",
       "    }\n",
       "\n",
       "    .dataframe tbody tr th {\n",
       "        vertical-align: top;\n",
       "    }\n",
       "\n",
       "    .dataframe thead th {\n",
       "        text-align: right;\n",
       "    }\n",
       "</style>\n",
       "<table border=\"1\" class=\"dataframe\">\n",
       "  <thead>\n",
       "    <tr style=\"text-align: right;\">\n",
       "      <th></th>\n",
       "      <th>SK_ID_CURR</th>\n",
       "      <th>NUM_INSTALMENT_VERSION</th>\n",
       "      <th>NUM_INSTALMENT_NUMBER</th>\n",
       "      <th>DAYS_INSTALMENT</th>\n",
       "      <th>AMT_PAYMENT</th>\n",
       "    </tr>\n",
       "  </thead>\n",
       "  <tbody>\n",
       "    <tr>\n",
       "      <th>0</th>\n",
       "      <td>161674</td>\n",
       "      <td>0.69</td>\n",
       "      <td>1.95</td>\n",
       "      <td>7.46</td>\n",
       "      <td>8.85</td>\n",
       "    </tr>\n",
       "    <tr>\n",
       "      <th>1</th>\n",
       "      <td>151639</td>\n",
       "      <td>0.00</td>\n",
       "      <td>3.56</td>\n",
       "      <td>6.64</td>\n",
       "      <td>7.45</td>\n",
       "    </tr>\n",
       "    <tr>\n",
       "      <th>2</th>\n",
       "      <td>193053</td>\n",
       "      <td>1.10</td>\n",
       "      <td>0.69</td>\n",
       "      <td>7.96</td>\n",
       "      <td>10.14</td>\n",
       "    </tr>\n",
       "    <tr>\n",
       "      <th>3</th>\n",
       "      <td>199697</td>\n",
       "      <td>0.69</td>\n",
       "      <td>1.39</td>\n",
       "      <td>6.22</td>\n",
       "      <td>10.10</td>\n",
       "    </tr>\n",
       "    <tr>\n",
       "      <th>4</th>\n",
       "      <td>167756</td>\n",
       "      <td>0.69</td>\n",
       "      <td>1.10</td>\n",
       "      <td>7.34</td>\n",
       "      <td>7.68</td>\n",
       "    </tr>\n",
       "  </tbody>\n",
       "</table>\n",
       "</div>"
      ],
      "text/plain": [
       "   SK_ID_CURR  NUM_INSTALMENT_VERSION  NUM_INSTALMENT_NUMBER  DAYS_INSTALMENT  \\\n",
       "0      161674                    0.69                   1.95             7.46   \n",
       "1      151639                    0.00                   3.56             6.64   \n",
       "2      193053                    1.10                   0.69             7.96   \n",
       "3      199697                    0.69                   1.39             6.22   \n",
       "4      167756                    0.69                   1.10             7.34   \n",
       "\n",
       "   AMT_PAYMENT  \n",
       "0         8.85  \n",
       "1         7.45  \n",
       "2        10.14  \n",
       "3        10.10  \n",
       "4         7.68  "
      ]
     },
     "execution_count": 22,
     "metadata": {},
     "output_type": "execute_result"
    }
   ],
   "source": [
    "installments_payments.head()"
   ]
  },
  {
   "cell_type": "markdown",
   "id": "52a167d6-5a79-4a3a-8751-1a9064a6012f",
   "metadata": {},
   "source": [
    "## AGGREGASI"
   ]
  },
  {
   "cell_type": "code",
   "execution_count": 23,
   "id": "bcd118a7-f3c4-49b2-9ee5-cc2195c108d2",
   "metadata": {
    "tags": []
   },
   "outputs": [],
   "source": [
    "# Pertama, kelompokkan berdasarkan SK_ID_CURR dan hitung rata-rata untuk kolom lainnya\n",
    "agg_df = installments_payments.groupby('SK_ID_CURR').mean().reset_index()\n",
    "\n",
    "# Selanjutnya, hitung berapa kali setiap SK_ID_CURR muncul dan tambahkan sebagai kolom baru\n",
    "agg_df['FREQ_INSTALMENT_PAY'] = installments_payments.groupby('SK_ID_CURR').size().values"
   ]
  },
  {
   "cell_type": "code",
   "execution_count": 25,
   "id": "19f34872-cf52-4119-b426-7e05d655b185",
   "metadata": {
    "tags": []
   },
   "outputs": [],
   "source": [
    "installments_payments = agg_df"
   ]
  },
  {
   "cell_type": "code",
   "execution_count": 26,
   "id": "18479a08-2ed8-4b19-91d1-68f8749e3832",
   "metadata": {
    "tags": []
   },
   "outputs": [
    {
     "data": {
      "text/html": [
       "<div>\n",
       "<style scoped>\n",
       "    .dataframe tbody tr th:only-of-type {\n",
       "        vertical-align: middle;\n",
       "    }\n",
       "\n",
       "    .dataframe tbody tr th {\n",
       "        vertical-align: top;\n",
       "    }\n",
       "\n",
       "    .dataframe thead th {\n",
       "        text-align: right;\n",
       "    }\n",
       "</style>\n",
       "<table border=\"1\" class=\"dataframe\">\n",
       "  <thead>\n",
       "    <tr style=\"text-align: right;\">\n",
       "      <th></th>\n",
       "      <th>SK_ID_CURR</th>\n",
       "      <th>NUM_INSTALMENT_VERSION</th>\n",
       "      <th>NUM_INSTALMENT_NUMBER</th>\n",
       "      <th>DAYS_INSTALMENT</th>\n",
       "      <th>AMT_PAYMENT</th>\n",
       "      <th>FREQ_INSTALMENT_PAY</th>\n",
       "    </tr>\n",
       "  </thead>\n",
       "  <tbody>\n",
       "    <tr>\n",
       "      <th>0</th>\n",
       "      <td>100001</td>\n",
       "      <td>0.75</td>\n",
       "      <td>1.27</td>\n",
       "      <td>5.47</td>\n",
       "      <td>8.50</td>\n",
       "      <td>7</td>\n",
       "    </tr>\n",
       "    <tr>\n",
       "      <th>1</th>\n",
       "      <td>100002</td>\n",
       "      <td>0.71</td>\n",
       "      <td>2.23</td>\n",
       "      <td>7.87</td>\n",
       "      <td>9.22</td>\n",
       "      <td>19</td>\n",
       "    </tr>\n",
       "    <tr>\n",
       "      <th>2</th>\n",
       "      <td>100003</td>\n",
       "      <td>0.71</td>\n",
       "      <td>1.67</td>\n",
       "      <td>7.20</td>\n",
       "      <td>10.18</td>\n",
       "      <td>25</td>\n",
       "    </tr>\n",
       "    <tr>\n",
       "      <th>3</th>\n",
       "      <td>100004</td>\n",
       "      <td>0.83</td>\n",
       "      <td>1.06</td>\n",
       "      <td>7.68</td>\n",
       "      <td>8.81</td>\n",
       "      <td>3</td>\n",
       "    </tr>\n",
       "    <tr>\n",
       "      <th>4</th>\n",
       "      <td>100005</td>\n",
       "      <td>0.74</td>\n",
       "      <td>1.68</td>\n",
       "      <td>7.76</td>\n",
       "      <td>8.62</td>\n",
       "      <td>9</td>\n",
       "    </tr>\n",
       "  </tbody>\n",
       "</table>\n",
       "</div>"
      ],
      "text/plain": [
       "   SK_ID_CURR  NUM_INSTALMENT_VERSION  NUM_INSTALMENT_NUMBER  DAYS_INSTALMENT  \\\n",
       "0      100001                    0.75                   1.27             5.47   \n",
       "1      100002                    0.71                   2.23             7.87   \n",
       "2      100003                    0.71                   1.67             7.20   \n",
       "3      100004                    0.83                   1.06             7.68   \n",
       "4      100005                    0.74                   1.68             7.76   \n",
       "\n",
       "   AMT_PAYMENT  FREQ_INSTALMENT_PAY  \n",
       "0         8.50                    7  \n",
       "1         9.22                   19  \n",
       "2        10.18                   25  \n",
       "3         8.81                    3  \n",
       "4         8.62                    9  "
      ]
     },
     "execution_count": 26,
     "metadata": {},
     "output_type": "execute_result"
    }
   ],
   "source": [
    "installments_payments.head()"
   ]
  },
  {
   "cell_type": "markdown",
   "id": "4bf3c88a-e820-4dd6-9265-bb9809be7d77",
   "metadata": {},
   "source": [
    "## SCALING"
   ]
  },
  {
   "cell_type": "code",
   "execution_count": 27,
   "id": "4002908b-94da-4a48-83b2-1e8298fd6de3",
   "metadata": {
    "tags": []
   },
   "outputs": [],
   "source": [
    "from sklearn.preprocessing import MinMaxScaler\n",
    "\n",
    "# Identifikasi kolom yang bertipe boolean\n",
    "boolean_columns = installments_payments.select_dtypes(include=['bool']).columns\n",
    "\n",
    "# Tambahkan kolom SK_ID_CURR ke daftar kolom yang akan dikecualikan\n",
    "exclude_columns = ['SK_ID_CURR'] + list(boolean_columns)\n",
    "\n",
    "# Pilih kolom yang bukan boolean dan bukan SK_ID_CURR\n",
    "scaling_columns = installments_payments.columns.difference(exclude_columns)\n",
    "\n",
    "# Inisialisasi MinMaxScaler\n",
    "scaler = MinMaxScaler()\n",
    "\n",
    "# Lakukan scaling hanya pada kolom yang dipilih\n",
    "installments_payments[scaling_columns] = scaler.fit_transform(installments_payments[scaling_columns])"
   ]
  },
  {
   "cell_type": "code",
   "execution_count": 28,
   "id": "6c418825-34f9-435b-b433-1362f96a10ee",
   "metadata": {
    "tags": []
   },
   "outputs": [
    {
     "data": {
      "text/html": [
       "<div>\n",
       "<style scoped>\n",
       "    .dataframe tbody tr th:only-of-type {\n",
       "        vertical-align: middle;\n",
       "    }\n",
       "\n",
       "    .dataframe tbody tr th {\n",
       "        vertical-align: top;\n",
       "    }\n",
       "\n",
       "    .dataframe thead th {\n",
       "        text-align: right;\n",
       "    }\n",
       "</style>\n",
       "<table border=\"1\" class=\"dataframe\">\n",
       "  <thead>\n",
       "    <tr style=\"text-align: right;\">\n",
       "      <th></th>\n",
       "      <th>SK_ID_CURR</th>\n",
       "      <th>NUM_INSTALMENT_VERSION</th>\n",
       "      <th>NUM_INSTALMENT_NUMBER</th>\n",
       "      <th>DAYS_INSTALMENT</th>\n",
       "      <th>AMT_PAYMENT</th>\n",
       "      <th>FREQ_INSTALMENT_PAY</th>\n",
       "    </tr>\n",
       "  </thead>\n",
       "  <tbody>\n",
       "    <tr>\n",
       "      <th>0</th>\n",
       "      <td>100001</td>\n",
       "      <td>0.26</td>\n",
       "      <td>0.14</td>\n",
       "      <td>0.69</td>\n",
       "      <td>0.57</td>\n",
       "      <td>0.02</td>\n",
       "    </tr>\n",
       "    <tr>\n",
       "      <th>1</th>\n",
       "      <td>100002</td>\n",
       "      <td>0.25</td>\n",
       "      <td>0.37</td>\n",
       "      <td>0.99</td>\n",
       "      <td>0.62</td>\n",
       "      <td>0.05</td>\n",
       "    </tr>\n",
       "    <tr>\n",
       "      <th>2</th>\n",
       "      <td>100003</td>\n",
       "      <td>0.25</td>\n",
       "      <td>0.24</td>\n",
       "      <td>0.90</td>\n",
       "      <td>0.69</td>\n",
       "      <td>0.06</td>\n",
       "    </tr>\n",
       "    <tr>\n",
       "      <th>3</th>\n",
       "      <td>100004</td>\n",
       "      <td>0.29</td>\n",
       "      <td>0.09</td>\n",
       "      <td>0.96</td>\n",
       "      <td>0.59</td>\n",
       "      <td>0.01</td>\n",
       "    </tr>\n",
       "    <tr>\n",
       "      <th>4</th>\n",
       "      <td>100005</td>\n",
       "      <td>0.26</td>\n",
       "      <td>0.24</td>\n",
       "      <td>0.97</td>\n",
       "      <td>0.58</td>\n",
       "      <td>0.02</td>\n",
       "    </tr>\n",
       "  </tbody>\n",
       "</table>\n",
       "</div>"
      ],
      "text/plain": [
       "   SK_ID_CURR  NUM_INSTALMENT_VERSION  NUM_INSTALMENT_NUMBER  DAYS_INSTALMENT  \\\n",
       "0      100001                    0.26                   0.14             0.69   \n",
       "1      100002                    0.25                   0.37             0.99   \n",
       "2      100003                    0.25                   0.24             0.90   \n",
       "3      100004                    0.29                   0.09             0.96   \n",
       "4      100005                    0.26                   0.24             0.97   \n",
       "\n",
       "   AMT_PAYMENT  FREQ_INSTALMENT_PAY  \n",
       "0         0.57                 0.02  \n",
       "1         0.62                 0.05  \n",
       "2         0.69                 0.06  \n",
       "3         0.59                 0.01  \n",
       "4         0.58                 0.02  "
      ]
     },
     "execution_count": 28,
     "metadata": {},
     "output_type": "execute_result"
    }
   ],
   "source": [
    "installments_payments.head()"
   ]
  },
  {
   "cell_type": "markdown",
   "id": "95c401be-cb73-4fef-afac-2872b6525e62",
   "metadata": {},
   "source": [
    "# SIMPAN DATASET KE CSV"
   ]
  },
  {
   "cell_type": "code",
   "execution_count": 29,
   "id": "7a2dc878-4819-49b3-947a-2f4a07d77189",
   "metadata": {
    "tags": []
   },
   "outputs": [],
   "source": [
    "# Simpan DataFrame ke file CSV\n",
    "installments_payments.to_csv('code_installments_payments.csv', index=False)"
   ]
  }
 ],
 "metadata": {
  "kernelspec": {
   "display_name": "Python 3 (ipykernel)",
   "language": "python",
   "name": "python3"
  },
  "language_info": {
   "codemirror_mode": {
    "name": "ipython",
    "version": 3
   },
   "file_extension": ".py",
   "mimetype": "text/x-python",
   "name": "python",
   "nbconvert_exporter": "python",
   "pygments_lexer": "ipython3",
   "version": "3.11.5"
  }
 },
 "nbformat": 4,
 "nbformat_minor": 5
}
