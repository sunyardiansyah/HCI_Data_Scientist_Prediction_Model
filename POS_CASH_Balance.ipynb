{
 "cells": [
  {
   "cell_type": "markdown",
   "id": "9c3950de-0e90-4652-822d-528aeb4f3c30",
   "metadata": {},
   "source": [
    "# POSH CASH BALANCE"
   ]
  },
  {
   "cell_type": "code",
   "execution_count": 1,
   "id": "ff213ad3-1672-4676-b6fa-1ce56a1a4cd5",
   "metadata": {
    "tags": []
   },
   "outputs": [],
   "source": [
    "import pandas as pd\n",
    "import numpy as np\n",
    "import seaborn as sns\n",
    "import matplotlib.pyplot as plt"
   ]
  },
  {
   "cell_type": "code",
   "execution_count": 2,
   "id": "41e00571-4985-40ed-8870-02b1a3867a2f",
   "metadata": {
    "tags": []
   },
   "outputs": [],
   "source": [
    "pd.set_option('display.max_columns', None)"
   ]
  },
  {
   "cell_type": "code",
   "execution_count": 3,
   "id": "bd647ed1-b346-4483-b732-9200466c880b",
   "metadata": {
    "tags": []
   },
   "outputs": [],
   "source": [
    "pos_cash_balance = pd.read_csv('POS_CASH_balance.csv')"
   ]
  },
  {
   "cell_type": "markdown",
   "id": "bf3426b4-11bf-4737-8417-2bac2902c83f",
   "metadata": {},
   "source": [
    "## INFORMASI AWAL"
   ]
  },
  {
   "cell_type": "code",
   "execution_count": 4,
   "id": "a02c788f-88d6-4cd3-9da5-276eab1da385",
   "metadata": {
    "tags": []
   },
   "outputs": [
    {
     "data": {
      "text/html": [
       "<div>\n",
       "<style scoped>\n",
       "    .dataframe tbody tr th:only-of-type {\n",
       "        vertical-align: middle;\n",
       "    }\n",
       "\n",
       "    .dataframe tbody tr th {\n",
       "        vertical-align: top;\n",
       "    }\n",
       "\n",
       "    .dataframe thead th {\n",
       "        text-align: right;\n",
       "    }\n",
       "</style>\n",
       "<table border=\"1\" class=\"dataframe\">\n",
       "  <thead>\n",
       "    <tr style=\"text-align: right;\">\n",
       "      <th></th>\n",
       "      <th>SK_ID_PREV</th>\n",
       "      <th>SK_ID_CURR</th>\n",
       "      <th>MONTHS_BALANCE</th>\n",
       "      <th>CNT_INSTALMENT</th>\n",
       "      <th>CNT_INSTALMENT_FUTURE</th>\n",
       "      <th>NAME_CONTRACT_STATUS</th>\n",
       "      <th>SK_DPD</th>\n",
       "      <th>SK_DPD_DEF</th>\n",
       "    </tr>\n",
       "  </thead>\n",
       "  <tbody>\n",
       "    <tr>\n",
       "      <th>0</th>\n",
       "      <td>1803195</td>\n",
       "      <td>182943</td>\n",
       "      <td>-31</td>\n",
       "      <td>48.0</td>\n",
       "      <td>45.0</td>\n",
       "      <td>Active</td>\n",
       "      <td>0</td>\n",
       "      <td>0</td>\n",
       "    </tr>\n",
       "    <tr>\n",
       "      <th>1</th>\n",
       "      <td>1715348</td>\n",
       "      <td>367990</td>\n",
       "      <td>-33</td>\n",
       "      <td>36.0</td>\n",
       "      <td>35.0</td>\n",
       "      <td>Active</td>\n",
       "      <td>0</td>\n",
       "      <td>0</td>\n",
       "    </tr>\n",
       "    <tr>\n",
       "      <th>2</th>\n",
       "      <td>1784872</td>\n",
       "      <td>397406</td>\n",
       "      <td>-32</td>\n",
       "      <td>12.0</td>\n",
       "      <td>9.0</td>\n",
       "      <td>Active</td>\n",
       "      <td>0</td>\n",
       "      <td>0</td>\n",
       "    </tr>\n",
       "    <tr>\n",
       "      <th>3</th>\n",
       "      <td>1903291</td>\n",
       "      <td>269225</td>\n",
       "      <td>-35</td>\n",
       "      <td>48.0</td>\n",
       "      <td>42.0</td>\n",
       "      <td>Active</td>\n",
       "      <td>0</td>\n",
       "      <td>0</td>\n",
       "    </tr>\n",
       "    <tr>\n",
       "      <th>4</th>\n",
       "      <td>2341044</td>\n",
       "      <td>334279</td>\n",
       "      <td>-35</td>\n",
       "      <td>36.0</td>\n",
       "      <td>35.0</td>\n",
       "      <td>Active</td>\n",
       "      <td>0</td>\n",
       "      <td>0</td>\n",
       "    </tr>\n",
       "  </tbody>\n",
       "</table>\n",
       "</div>"
      ],
      "text/plain": [
       "   SK_ID_PREV  SK_ID_CURR  MONTHS_BALANCE  CNT_INSTALMENT  \\\n",
       "0     1803195      182943             -31            48.0   \n",
       "1     1715348      367990             -33            36.0   \n",
       "2     1784872      397406             -32            12.0   \n",
       "3     1903291      269225             -35            48.0   \n",
       "4     2341044      334279             -35            36.0   \n",
       "\n",
       "   CNT_INSTALMENT_FUTURE NAME_CONTRACT_STATUS  SK_DPD  SK_DPD_DEF  \n",
       "0                   45.0               Active       0           0  \n",
       "1                   35.0               Active       0           0  \n",
       "2                    9.0               Active       0           0  \n",
       "3                   42.0               Active       0           0  \n",
       "4                   35.0               Active       0           0  "
      ]
     },
     "execution_count": 4,
     "metadata": {},
     "output_type": "execute_result"
    }
   ],
   "source": [
    "pos_cash_balance.head()"
   ]
  },
  {
   "cell_type": "code",
   "execution_count": 5,
   "id": "1f92adf4-03bd-42af-8f28-02ec36d31675",
   "metadata": {
    "tags": []
   },
   "outputs": [
    {
     "name": "stdout",
     "output_type": "stream",
     "text": [
      "<class 'pandas.core.frame.DataFrame'>\n",
      "RangeIndex: 10001358 entries, 0 to 10001357\n",
      "Data columns (total 8 columns):\n",
      " #   Column                 Dtype  \n",
      "---  ------                 -----  \n",
      " 0   SK_ID_PREV             int64  \n",
      " 1   SK_ID_CURR             int64  \n",
      " 2   MONTHS_BALANCE         int64  \n",
      " 3   CNT_INSTALMENT         float64\n",
      " 4   CNT_INSTALMENT_FUTURE  float64\n",
      " 5   NAME_CONTRACT_STATUS   object \n",
      " 6   SK_DPD                 int64  \n",
      " 7   SK_DPD_DEF             int64  \n",
      "dtypes: float64(2), int64(5), object(1)\n",
      "memory usage: 610.4+ MB\n"
     ]
    }
   ],
   "source": [
    "pos_cash_balance.info()"
   ]
  },
  {
   "cell_type": "code",
   "execution_count": 6,
   "id": "727eb3a3-a982-4dd9-b918-eb76345c76fd",
   "metadata": {
    "tags": []
   },
   "outputs": [],
   "source": [
    "# Memisahkan kolom numerikal dan kategorikal\n",
    "kolom_numerikal = pos_cash_balance.select_dtypes(include=['number']).columns\n",
    "kolom_kategorikal = pos_cash_balance.select_dtypes(include=['object']).columns"
   ]
  },
  {
   "cell_type": "markdown",
   "id": "2ef81898-c116-4d6c-bcae-4e73e40465d2",
   "metadata": {},
   "source": [
    "## EDA KOLOM NUMERICAL"
   ]
  },
  {
   "cell_type": "code",
   "execution_count": 7,
   "id": "b762b416-5ce9-4acd-b7dc-ee4822f5f11c",
   "metadata": {
    "tags": []
   },
   "outputs": [],
   "source": [
    "pd.set_option('display.float_format', '{:.2f}'.format)"
   ]
  },
  {
   "cell_type": "markdown",
   "id": "86cbd7c4-c8b2-4f22-8149-2a02893b187b",
   "metadata": {},
   "source": [
    "### Describe"
   ]
  },
  {
   "cell_type": "code",
   "execution_count": 8,
   "id": "910afbd1-279b-4c85-9fff-cb320091f676",
   "metadata": {
    "tags": []
   },
   "outputs": [
    {
     "data": {
      "text/html": [
       "<div>\n",
       "<style scoped>\n",
       "    .dataframe tbody tr th:only-of-type {\n",
       "        vertical-align: middle;\n",
       "    }\n",
       "\n",
       "    .dataframe tbody tr th {\n",
       "        vertical-align: top;\n",
       "    }\n",
       "\n",
       "    .dataframe thead th {\n",
       "        text-align: right;\n",
       "    }\n",
       "</style>\n",
       "<table border=\"1\" class=\"dataframe\">\n",
       "  <thead>\n",
       "    <tr style=\"text-align: right;\">\n",
       "      <th></th>\n",
       "      <th>count</th>\n",
       "      <th>mean</th>\n",
       "      <th>std</th>\n",
       "      <th>min</th>\n",
       "      <th>25%</th>\n",
       "      <th>50%</th>\n",
       "      <th>75%</th>\n",
       "      <th>max</th>\n",
       "    </tr>\n",
       "  </thead>\n",
       "  <tbody>\n",
       "    <tr>\n",
       "      <th>SK_ID_PREV</th>\n",
       "      <td>10001358.00</td>\n",
       "      <td>1903216.60</td>\n",
       "      <td>535846.53</td>\n",
       "      <td>1000001.00</td>\n",
       "      <td>1434405.00</td>\n",
       "      <td>1896565.00</td>\n",
       "      <td>2368963.00</td>\n",
       "      <td>2843499.00</td>\n",
       "    </tr>\n",
       "    <tr>\n",
       "      <th>SK_ID_CURR</th>\n",
       "      <td>10001358.00</td>\n",
       "      <td>278403.86</td>\n",
       "      <td>102763.75</td>\n",
       "      <td>100001.00</td>\n",
       "      <td>189550.00</td>\n",
       "      <td>278654.00</td>\n",
       "      <td>367429.00</td>\n",
       "      <td>456255.00</td>\n",
       "    </tr>\n",
       "    <tr>\n",
       "      <th>MONTHS_BALANCE</th>\n",
       "      <td>10001358.00</td>\n",
       "      <td>-35.01</td>\n",
       "      <td>26.07</td>\n",
       "      <td>-96.00</td>\n",
       "      <td>-54.00</td>\n",
       "      <td>-28.00</td>\n",
       "      <td>-13.00</td>\n",
       "      <td>-1.00</td>\n",
       "    </tr>\n",
       "    <tr>\n",
       "      <th>CNT_INSTALMENT</th>\n",
       "      <td>9975287.00</td>\n",
       "      <td>17.09</td>\n",
       "      <td>12.00</td>\n",
       "      <td>1.00</td>\n",
       "      <td>10.00</td>\n",
       "      <td>12.00</td>\n",
       "      <td>24.00</td>\n",
       "      <td>92.00</td>\n",
       "    </tr>\n",
       "    <tr>\n",
       "      <th>CNT_INSTALMENT_FUTURE</th>\n",
       "      <td>9975271.00</td>\n",
       "      <td>10.48</td>\n",
       "      <td>11.11</td>\n",
       "      <td>0.00</td>\n",
       "      <td>3.00</td>\n",
       "      <td>7.00</td>\n",
       "      <td>14.00</td>\n",
       "      <td>85.00</td>\n",
       "    </tr>\n",
       "    <tr>\n",
       "      <th>SK_DPD</th>\n",
       "      <td>10001358.00</td>\n",
       "      <td>11.61</td>\n",
       "      <td>132.71</td>\n",
       "      <td>0.00</td>\n",
       "      <td>0.00</td>\n",
       "      <td>0.00</td>\n",
       "      <td>0.00</td>\n",
       "      <td>4231.00</td>\n",
       "    </tr>\n",
       "    <tr>\n",
       "      <th>SK_DPD_DEF</th>\n",
       "      <td>10001358.00</td>\n",
       "      <td>0.65</td>\n",
       "      <td>32.76</td>\n",
       "      <td>0.00</td>\n",
       "      <td>0.00</td>\n",
       "      <td>0.00</td>\n",
       "      <td>0.00</td>\n",
       "      <td>3595.00</td>\n",
       "    </tr>\n",
       "  </tbody>\n",
       "</table>\n",
       "</div>"
      ],
      "text/plain": [
       "                            count       mean       std        min        25%  \\\n",
       "SK_ID_PREV            10001358.00 1903216.60 535846.53 1000001.00 1434405.00   \n",
       "SK_ID_CURR            10001358.00  278403.86 102763.75  100001.00  189550.00   \n",
       "MONTHS_BALANCE        10001358.00     -35.01     26.07     -96.00     -54.00   \n",
       "CNT_INSTALMENT         9975287.00      17.09     12.00       1.00      10.00   \n",
       "CNT_INSTALMENT_FUTURE  9975271.00      10.48     11.11       0.00       3.00   \n",
       "SK_DPD                10001358.00      11.61    132.71       0.00       0.00   \n",
       "SK_DPD_DEF            10001358.00       0.65     32.76       0.00       0.00   \n",
       "\n",
       "                             50%        75%        max  \n",
       "SK_ID_PREV            1896565.00 2368963.00 2843499.00  \n",
       "SK_ID_CURR             278654.00  367429.00  456255.00  \n",
       "MONTHS_BALANCE            -28.00     -13.00      -1.00  \n",
       "CNT_INSTALMENT             12.00      24.00      92.00  \n",
       "CNT_INSTALMENT_FUTURE       7.00      14.00      85.00  \n",
       "SK_DPD                      0.00       0.00    4231.00  \n",
       "SK_DPD_DEF                  0.00       0.00    3595.00  "
      ]
     },
     "execution_count": 8,
     "metadata": {},
     "output_type": "execute_result"
    }
   ],
   "source": [
    "pos_cash_balance[kolom_numerikal].describe().transpose()"
   ]
  },
  {
   "cell_type": "markdown",
   "id": "05d2c486-f3e6-49d8-aade-1ce8686f52a0",
   "metadata": {},
   "source": [
    "### Boxplot"
   ]
  },
  {
   "cell_type": "code",
   "execution_count": 9,
   "id": "4b5e6ab5-d798-4193-bf46-0d61457a241a",
   "metadata": {
    "tags": []
   },
   "outputs": [
    {
     "name": "stderr",
     "output_type": "stream",
     "text": [
      "C:\\Users\\sanny\\AppData\\Local\\Temp\\ipykernel_9136\\1604181937.py:6: UserWarning: The figure layout has changed to tight\n",
      "  plt.tight_layout()\n",
      "C:\\Users\\sanny\\AppData\\Local\\Temp\\ipykernel_9136\\1604181937.py:6: UserWarning: The figure layout has changed to tight\n",
      "  plt.tight_layout()\n",
      "C:\\Users\\sanny\\AppData\\Local\\Temp\\ipykernel_9136\\1604181937.py:6: UserWarning: The figure layout has changed to tight\n",
      "  plt.tight_layout()\n",
      "C:\\Users\\sanny\\AppData\\Local\\Temp\\ipykernel_9136\\1604181937.py:6: UserWarning: The figure layout has changed to tight\n",
      "  plt.tight_layout()\n",
      "C:\\Users\\sanny\\AppData\\Local\\Temp\\ipykernel_9136\\1604181937.py:6: UserWarning: The figure layout has changed to tight\n",
      "  plt.tight_layout()\n",
      "C:\\Users\\sanny\\AppData\\Local\\Temp\\ipykernel_9136\\1604181937.py:6: UserWarning: The figure layout has changed to tight\n",
      "  plt.tight_layout()\n"
     ]
    },
    {
     "data": {
      "image/png": "[encoded data removed]",
      "text/plain": [
       "<Figure size 1200x500 with 7 Axes>"
      ]
     },
     "metadata": {},
     "output_type": "display_data"
    }
   ],
   "source": [
    "plt.figure(figsize=(12, 5))\n",
    "\n",
    "for i in range(0, len(kolom_numerikal)):\n",
    "    plt.subplot(1, 7, i+1)\n",
    "    sns.boxplot(y=pos_cash_balance[kolom_numerikal[i]], color='blue', orient='v')\n",
    "    plt.tight_layout()"
   ]
  },
  {
   "cell_type": "markdown",
   "id": "a2edcf4c-bc79-415e-b44d-0aee491aa637",
   "metadata": {},
   "source": [
    "### Distplot"
   ]
  },
  {
   "cell_type": "raw",
   "id": "87896f0b-a3ab-42cf-aaf4-bc5d4eca8398",
   "metadata": {
    "tags": []
   },
   "source": [
    "plt.figure(figsize=(12, 4))\n",
    "for i in range(0, len(kolom_numerikal)):\n",
    "    plt.subplot(2, 5, i+1)\n",
    "    sns.distplot(pos_cash_balance[kolom_numerikal[i]], color='gray')\n",
    "    plt.tight_layout()"
   ]
  },
  {
   "cell_type": "markdown",
   "id": "523be6c9-dd4d-4f56-8328-6dab8be31125",
   "metadata": {},
   "source": [
    "### Heatmap"
   ]
  },
  {
   "cell_type": "code",
   "execution_count": 10,
   "id": "0f163fb4-e7e3-46e4-8245-cf9129f6f377",
   "metadata": {
    "tags": []
   },
   "outputs": [
    {
     "data": {
      "text/plain": [
       "<Axes: >"
      ]
     },
     "execution_count": 10,
     "metadata": {},
     "output_type": "execute_result"
    },
    {
     "data": {
      "image/png": "[encoded data removed]",
      "text/plain": [
       "<Figure size 1500x1500 with 2 Axes>"
      ]
     },
     "metadata": {},
     "output_type": "display_data"
    }
   ],
   "source": [
    "plt.figure(figsize=(15, 15))\n",
    "sns.heatmap(pos_cash_balance[kolom_numerikal].corr(), cmap='viridis', annot=True, fmt='.2f')"
   ]
  },
  {
   "cell_type": "markdown",
   "id": "6e12fb1b-07ff-471f-87ec-c00168b1ba8f",
   "metadata": {},
   "source": [
    "## EDA KOLOM KATEGORIKAL"
   ]
  },
  {
   "cell_type": "markdown",
   "id": "f700c6c6-6cb0-46f1-9662-893895a84887",
   "metadata": {},
   "source": [
    "### Describe"
   ]
  },
  {
   "cell_type": "code",
   "execution_count": 11,
   "id": "2ada1fc6-e1f6-4dea-bd02-f9a36de387b0",
   "metadata": {},
   "outputs": [
    {
     "data": {
      "text/html": [
       "<div>\n",
       "<style scoped>\n",
       "    .dataframe tbody tr th:only-of-type {\n",
       "        vertical-align: middle;\n",
       "    }\n",
       "\n",
       "    .dataframe tbody tr th {\n",
       "        vertical-align: top;\n",
       "    }\n",
       "\n",
       "    .dataframe thead th {\n",
       "        text-align: right;\n",
       "    }\n",
       "</style>\n",
       "<table border=\"1\" class=\"dataframe\">\n",
       "  <thead>\n",
       "    <tr style=\"text-align: right;\">\n",
       "      <th></th>\n",
       "      <th>count</th>\n",
       "      <th>unique</th>\n",
       "      <th>top</th>\n",
       "      <th>freq</th>\n",
       "    </tr>\n",
       "  </thead>\n",
       "  <tbody>\n",
       "    <tr>\n",
       "      <th>NAME_CONTRACT_STATUS</th>\n",
       "      <td>10001358</td>\n",
       "      <td>9</td>\n",
       "      <td>Active</td>\n",
       "      <td>9151119</td>\n",
       "    </tr>\n",
       "  </tbody>\n",
       "</table>\n",
       "</div>"
      ],
      "text/plain": [
       "                         count unique     top     freq\n",
       "NAME_CONTRACT_STATUS  10001358      9  Active  9151119"
      ]
     },
     "execution_count": 11,
     "metadata": {},
     "output_type": "execute_result"
    }
   ],
   "source": [
    "pos_cash_balance[kolom_kategorikal].describe().transpose()"
   ]
  },
  {
   "cell_type": "markdown",
   "id": "166c5919-3b51-4976-823c-152e1fed5f28",
   "metadata": {},
   "source": [
    "### Cek Nilai Unik"
   ]
  },
  {
   "cell_type": "code",
   "execution_count": 12,
   "id": "1df27f27-0f44-4370-bf78-9a918e26555e",
   "metadata": {},
   "outputs": [
    {
     "name": "stdout",
     "output_type": "stream",
     "text": [
      "Value count kolom NAME_CONTRACT_STATUS:\n",
      "NAME_CONTRACT_STATUS\n",
      "Active                   9151119\n",
      "Completed                 744883\n",
      "Signed                     87260\n",
      "Demand                      7065\n",
      "Returned to the store       5461\n",
      "Approved                    4917\n",
      "Amortized debt               636\n",
      "Canceled                      15\n",
      "XNA                            2\n",
      "Name: count, dtype: int64\n",
      "\n"
     ]
    }
   ],
   "source": [
    "for col in kolom_kategorikal:\n",
    "    print(f'''Value count kolom {col}:''')\n",
    "    print(pos_cash_balance[col].value_counts())\n",
    "    print()"
   ]
  },
  {
   "cell_type": "markdown",
   "id": "cb9fb318-0fd4-4eeb-8194-fa2405059c33",
   "metadata": {},
   "source": [
    "### Distribusi Barchart"
   ]
  },
  {
   "cell_type": "code",
   "execution_count": 13,
   "id": "7f6c6081-2d05-422c-9e64-ebaf6ead325e",
   "metadata": {},
   "outputs": [
    {
     "data": {
      "image/png": "[encoded data removed]",
      "text/plain": [
       "<Figure size 1000x600 with 1 Axes>"
      ]
     },
     "metadata": {},
     "output_type": "display_data"
    }
   ],
   "source": [
    "# Membuat bar chart untuk setiap kolom kategorikal\n",
    "for i, col in enumerate(kolom_kategorikal):\n",
    "    plt.figure(figsize=(10, 6))\n",
    "    pos_cash_balance[col].value_counts().plot(kind='bar')\n",
    "    plt.title(f\"Distribution of {col}\")\n",
    "    plt.xlabel(\"\")\n",
    "    plt.ylabel(\"Frequency\")\n",
    "    plt.show()"
   ]
  },
  {
   "cell_type": "markdown",
   "id": "74406309-998b-4450-b7eb-9be8a29188d4",
   "metadata": {},
   "source": [
    "# DATA PREPROCESSING"
   ]
  },
  {
   "cell_type": "markdown",
   "id": "f74f593c-81fd-403f-a2d1-f1885f66e339",
   "metadata": {},
   "source": [
    "## MISSING VALUES"
   ]
  },
  {
   "cell_type": "markdown",
   "id": "d5160eac-f82c-42ed-a76d-5811b4ed1d18",
   "metadata": {},
   "source": [
    "### Cek Missing Values"
   ]
  },
  {
   "cell_type": "code",
   "execution_count": 14,
   "id": "a0efd5f7-452b-4797-be5e-7bb6fb3d8515",
   "metadata": {},
   "outputs": [
    {
     "name": "stdout",
     "output_type": "stream",
     "text": [
      "                       Jumlah Missing Values  Persentase Missing Values (%)\n",
      "CNT_INSTALMENT                         26071                           0.26\n",
      "CNT_INSTALMENT_FUTURE                  26087                           0.26\n"
     ]
    }
   ],
   "source": [
    "# Hitung jumlah missing values untuk setiap kolom\n",
    "jumlah_missing = pos_cash_balance.isnull().sum()\n",
    "\n",
    "# Hitung persentase missing values untuk setiap kolom\n",
    "persentase_missing = round((jumlah_missing / len(pos_cash_balance)) * 100, 2)\n",
    "\n",
    "# Gabungkan hasil dalam satu DataFrame\n",
    "missing_summary = pd.DataFrame({\n",
    "    'Jumlah Missing Values': jumlah_missing,\n",
    "    'Persentase Missing Values (%)': persentase_missing\n",
    "})\n",
    "\n",
    "# Filter hanya kolom yang memiliki missing values\n",
    "missing_summary_filtered = missing_summary[missing_summary['Jumlah Missing Values'] > 0]\n",
    "\n",
    "print(missing_summary_filtered)"
   ]
  },
  {
   "cell_type": "markdown",
   "id": "e2d41ac8-ae6e-4493-b783-177fcb75f28c",
   "metadata": {},
   "source": [
    "### Penanganan Missing Values"
   ]
  },
  {
   "cell_type": "code",
   "execution_count": 18,
   "id": "a914e233-8874-48b9-8d5c-ab2d6cc57765",
   "metadata": {
    "tags": []
   },
   "outputs": [],
   "source": [
    "# Mengganti nilai NaN dengan median\n",
    "pos_cash_balance[['CNT_INSTALMENT', 'CNT_INSTALMENT_FUTURE']] = pos_cash_balance[['CNT_INSTALMENT', 'CNT_INSTALMENT_FUTURE']].apply(lambda x: x.fillna(x.median()))"
   ]
  },
  {
   "cell_type": "markdown",
   "id": "e7cfc9f8-5138-4e65-bfe7-cc7d80535f0b",
   "metadata": {},
   "source": [
    "### Cek Kembali"
   ]
  },
  {
   "cell_type": "code",
   "execution_count": 19,
   "id": "87404582-e9b7-4673-ba85-693661675686",
   "metadata": {},
   "outputs": [
    {
     "data": {
      "text/plain": [
       "SK_ID_PREV               0\n",
       "SK_ID_CURR               0\n",
       "MONTHS_BALANCE           0\n",
       "CNT_INSTALMENT           0\n",
       "CNT_INSTALMENT_FUTURE    0\n",
       "NAME_CONTRACT_STATUS     0\n",
       "SK_DPD                   0\n",
       "SK_DPD_DEF               0\n",
       "dtype: int64"
      ]
     },
     "execution_count": 19,
     "metadata": {},
     "output_type": "execute_result"
    }
   ],
   "source": [
    "pos_cash_balance.isna().sum()"
   ]
  },
  {
   "cell_type": "code",
   "execution_count": 20,
   "id": "6ff27244-6a80-4b48-85d0-697ff36b302c",
   "metadata": {
    "tags": []
   },
   "outputs": [],
   "source": [
    "pos_cash_balance = pos_cash_balance.drop(columns=['CNT_INSTALMENT_FUTURE'])"
   ]
  },
  {
   "cell_type": "markdown",
   "id": "99a41d9e-544e-4045-ba70-b0aec5eb6adf",
   "metadata": {},
   "source": [
    "## OUTLIERS"
   ]
  },
  {
   "cell_type": "code",
   "execution_count": 21,
   "id": "c043ef72-0981-4f9e-abe0-9d9bb5d1bab5",
   "metadata": {
    "tags": []
   },
   "outputs": [
    {
     "data": {
      "text/html": [
       "<div>\n",
       "<style scoped>\n",
       "    .dataframe tbody tr th:only-of-type {\n",
       "        vertical-align: middle;\n",
       "    }\n",
       "\n",
       "    .dataframe tbody tr th {\n",
       "        vertical-align: top;\n",
       "    }\n",
       "\n",
       "    .dataframe thead th {\n",
       "        text-align: right;\n",
       "    }\n",
       "</style>\n",
       "<table border=\"1\" class=\"dataframe\">\n",
       "  <thead>\n",
       "    <tr style=\"text-align: right;\">\n",
       "      <th></th>\n",
       "      <th>count</th>\n",
       "      <th>mean</th>\n",
       "      <th>std</th>\n",
       "      <th>min</th>\n",
       "      <th>25%</th>\n",
       "      <th>50%</th>\n",
       "      <th>75%</th>\n",
       "      <th>max</th>\n",
       "    </tr>\n",
       "  </thead>\n",
       "  <tbody>\n",
       "    <tr>\n",
       "      <th>SK_ID_PREV</th>\n",
       "      <td>10001358.00</td>\n",
       "      <td>1903216.60</td>\n",
       "      <td>535846.53</td>\n",
       "      <td>1000001.00</td>\n",
       "      <td>1434405.00</td>\n",
       "      <td>1896565.00</td>\n",
       "      <td>2368963.00</td>\n",
       "      <td>2843499.00</td>\n",
       "    </tr>\n",
       "    <tr>\n",
       "      <th>SK_ID_CURR</th>\n",
       "      <td>10001358.00</td>\n",
       "      <td>278403.86</td>\n",
       "      <td>102763.75</td>\n",
       "      <td>100001.00</td>\n",
       "      <td>189550.00</td>\n",
       "      <td>278654.00</td>\n",
       "      <td>367429.00</td>\n",
       "      <td>456255.00</td>\n",
       "    </tr>\n",
       "    <tr>\n",
       "      <th>MONTHS_BALANCE</th>\n",
       "      <td>10001358.00</td>\n",
       "      <td>-35.01</td>\n",
       "      <td>26.07</td>\n",
       "      <td>-96.00</td>\n",
       "      <td>-54.00</td>\n",
       "      <td>-28.00</td>\n",
       "      <td>-13.00</td>\n",
       "      <td>-1.00</td>\n",
       "    </tr>\n",
       "    <tr>\n",
       "      <th>CNT_INSTALMENT</th>\n",
       "      <td>10001358.00</td>\n",
       "      <td>17.08</td>\n",
       "      <td>11.98</td>\n",
       "      <td>1.00</td>\n",
       "      <td>10.00</td>\n",
       "      <td>12.00</td>\n",
       "      <td>24.00</td>\n",
       "      <td>92.00</td>\n",
       "    </tr>\n",
       "    <tr>\n",
       "      <th>SK_DPD</th>\n",
       "      <td>10001358.00</td>\n",
       "      <td>11.61</td>\n",
       "      <td>132.71</td>\n",
       "      <td>0.00</td>\n",
       "      <td>0.00</td>\n",
       "      <td>0.00</td>\n",
       "      <td>0.00</td>\n",
       "      <td>4231.00</td>\n",
       "    </tr>\n",
       "    <tr>\n",
       "      <th>SK_DPD_DEF</th>\n",
       "      <td>10001358.00</td>\n",
       "      <td>0.65</td>\n",
       "      <td>32.76</td>\n",
       "      <td>0.00</td>\n",
       "      <td>0.00</td>\n",
       "      <td>0.00</td>\n",
       "      <td>0.00</td>\n",
       "      <td>3595.00</td>\n",
       "    </tr>\n",
       "  </tbody>\n",
       "</table>\n",
       "</div>"
      ],
      "text/plain": [
       "                     count       mean       std        min        25%  \\\n",
       "SK_ID_PREV     10001358.00 1903216.60 535846.53 1000001.00 1434405.00   \n",
       "SK_ID_CURR     10001358.00  278403.86 102763.75  100001.00  189550.00   \n",
       "MONTHS_BALANCE 10001358.00     -35.01     26.07     -96.00     -54.00   \n",
       "CNT_INSTALMENT 10001358.00      17.08     11.98       1.00      10.00   \n",
       "SK_DPD         10001358.00      11.61    132.71       0.00       0.00   \n",
       "SK_DPD_DEF     10001358.00       0.65     32.76       0.00       0.00   \n",
       "\n",
       "                      50%        75%        max  \n",
       "SK_ID_PREV     1896565.00 2368963.00 2843499.00  \n",
       "SK_ID_CURR      278654.00  367429.00  456255.00  \n",
       "MONTHS_BALANCE     -28.00     -13.00      -1.00  \n",
       "CNT_INSTALMENT      12.00      24.00      92.00  \n",
       "SK_DPD               0.00       0.00    4231.00  \n",
       "SK_DPD_DEF           0.00       0.00    3595.00  "
      ]
     },
     "execution_count": 21,
     "metadata": {},
     "output_type": "execute_result"
    }
   ],
   "source": [
    "pos_cash_balance.describe().transpose()"
   ]
  },
  {
   "cell_type": "markdown",
   "id": "412baa92-0f34-4fa1-9129-5d229b057b3d",
   "metadata": {},
   "source": [
    "### Menggeser Kolom dengan Nilai Negatif"
   ]
  },
  {
   "cell_type": "code",
   "execution_count": 22,
   "id": "483551b7-1d0e-4444-b49e-d6dc925b5a20",
   "metadata": {
    "tags": []
   },
   "outputs": [],
   "source": [
    "# Mencari nilai minimum pada kolom\n",
    "min_value = pos_cash_balance['MONTHS_BALANCE'].min()\n",
    "\n",
    "# Jika ada nilai negatif, tambahkan nilai positif untuk menggeser semua nilai menjadi positif\n",
    "if min_value < 0:\n",
    "    pos_cash_balance['MONTHS_BALANCE'] = pos_cash_balance['MONTHS_BALANCE'] + abs(min_value)"
   ]
  },
  {
   "cell_type": "markdown",
   "id": "c8d2b832-08b1-4235-9d89-e34bc1049603",
   "metadata": {},
   "source": [
    "### Cek Hasil Penggeseran"
   ]
  },
  {
   "cell_type": "code",
   "execution_count": 23,
   "id": "4bf97568-3032-41d8-8eb7-338c8d0e3de8",
   "metadata": {
    "tags": []
   },
   "outputs": [
    {
     "data": {
      "text/html": [
       "<div>\n",
       "<style scoped>\n",
       "    .dataframe tbody tr th:only-of-type {\n",
       "        vertical-align: middle;\n",
       "    }\n",
       "\n",
       "    .dataframe tbody tr th {\n",
       "        vertical-align: top;\n",
       "    }\n",
       "\n",
       "    .dataframe thead th {\n",
       "        text-align: right;\n",
       "    }\n",
       "</style>\n",
       "<table border=\"1\" class=\"dataframe\">\n",
       "  <thead>\n",
       "    <tr style=\"text-align: right;\">\n",
       "      <th></th>\n",
       "      <th>count</th>\n",
       "      <th>mean</th>\n",
       "      <th>std</th>\n",
       "      <th>min</th>\n",
       "      <th>25%</th>\n",
       "      <th>50%</th>\n",
       "      <th>75%</th>\n",
       "      <th>max</th>\n",
       "    </tr>\n",
       "  </thead>\n",
       "  <tbody>\n",
       "    <tr>\n",
       "      <th>SK_ID_PREV</th>\n",
       "      <td>10001358.00</td>\n",
       "      <td>1903216.60</td>\n",
       "      <td>535846.53</td>\n",
       "      <td>1000001.00</td>\n",
       "      <td>1434405.00</td>\n",
       "      <td>1896565.00</td>\n",
       "      <td>2368963.00</td>\n",
       "      <td>2843499.00</td>\n",
       "    </tr>\n",
       "    <tr>\n",
       "      <th>SK_ID_CURR</th>\n",
       "      <td>10001358.00</td>\n",
       "      <td>278403.86</td>\n",
       "      <td>102763.75</td>\n",
       "      <td>100001.00</td>\n",
       "      <td>189550.00</td>\n",
       "      <td>278654.00</td>\n",
       "      <td>367429.00</td>\n",
       "      <td>456255.00</td>\n",
       "    </tr>\n",
       "    <tr>\n",
       "      <th>MONTHS_BALANCE</th>\n",
       "      <td>10001358.00</td>\n",
       "      <td>60.99</td>\n",
       "      <td>26.07</td>\n",
       "      <td>0.00</td>\n",
       "      <td>42.00</td>\n",
       "      <td>68.00</td>\n",
       "      <td>83.00</td>\n",
       "      <td>95.00</td>\n",
       "    </tr>\n",
       "    <tr>\n",
       "      <th>CNT_INSTALMENT</th>\n",
       "      <td>10001358.00</td>\n",
       "      <td>17.08</td>\n",
       "      <td>11.98</td>\n",
       "      <td>1.00</td>\n",
       "      <td>10.00</td>\n",
       "      <td>12.00</td>\n",
       "      <td>24.00</td>\n",
       "      <td>92.00</td>\n",
       "    </tr>\n",
       "    <tr>\n",
       "      <th>SK_DPD</th>\n",
       "      <td>10001358.00</td>\n",
       "      <td>11.61</td>\n",
       "      <td>132.71</td>\n",
       "      <td>0.00</td>\n",
       "      <td>0.00</td>\n",
       "      <td>0.00</td>\n",
       "      <td>0.00</td>\n",
       "      <td>4231.00</td>\n",
       "    </tr>\n",
       "    <tr>\n",
       "      <th>SK_DPD_DEF</th>\n",
       "      <td>10001358.00</td>\n",
       "      <td>0.65</td>\n",
       "      <td>32.76</td>\n",
       "      <td>0.00</td>\n",
       "      <td>0.00</td>\n",
       "      <td>0.00</td>\n",
       "      <td>0.00</td>\n",
       "      <td>3595.00</td>\n",
       "    </tr>\n",
       "  </tbody>\n",
       "</table>\n",
       "</div>"
      ],
      "text/plain": [
       "                     count       mean       std        min        25%  \\\n",
       "SK_ID_PREV     10001358.00 1903216.60 535846.53 1000001.00 1434405.00   \n",
       "SK_ID_CURR     10001358.00  278403.86 102763.75  100001.00  189550.00   \n",
       "MONTHS_BALANCE 10001358.00      60.99     26.07       0.00      42.00   \n",
       "CNT_INSTALMENT 10001358.00      17.08     11.98       1.00      10.00   \n",
       "SK_DPD         10001358.00      11.61    132.71       0.00       0.00   \n",
       "SK_DPD_DEF     10001358.00       0.65     32.76       0.00       0.00   \n",
       "\n",
       "                      50%        75%        max  \n",
       "SK_ID_PREV     1896565.00 2368963.00 2843499.00  \n",
       "SK_ID_CURR      278654.00  367429.00  456255.00  \n",
       "MONTHS_BALANCE      68.00      83.00      95.00  \n",
       "CNT_INSTALMENT      12.00      24.00      92.00  \n",
       "SK_DPD               0.00       0.00    4231.00  \n",
       "SK_DPD_DEF           0.00       0.00    3595.00  "
      ]
     },
     "execution_count": 23,
     "metadata": {},
     "output_type": "execute_result"
    }
   ],
   "source": [
    "pos_cash_balance.describe().transpose()"
   ]
  },
  {
   "cell_type": "markdown",
   "id": "1305dc24-ed0d-4caa-887c-7607d7d8a389",
   "metadata": {},
   "source": [
    "### Log Transformation"
   ]
  },
  {
   "cell_type": "code",
   "execution_count": 24,
   "id": "01975024-a952-417c-a8c2-80d4183125f0",
   "metadata": {
    "tags": []
   },
   "outputs": [],
   "source": [
    "# Kolom ini dihapus karena tidak akan digunakan kembali\n",
    "pos_cash_balance = pos_cash_balance.drop(columns=['SK_ID_PREV'])"
   ]
  },
  {
   "cell_type": "code",
   "execution_count": 25,
   "id": "f328297a-7e1f-4009-a9d2-45e197a3b952",
   "metadata": {
    "tags": []
   },
   "outputs": [],
   "source": [
    "# 1. Identifikasi kolom yang tidak akan di-transformasi\n",
    "# SK_ID_CURR tidak diubah, dan kolom boolean juga tidak diubah\n",
    "exclude_columns = ['SK_ID_CURR'] + list(pos_cash_balance.select_dtypes(include=['bool']).columns)\n",
    "\n",
    "# 2. Identifikasi kolom numerik yang akan di-transformasi (kecuali yang ada di exclude_columns)\n",
    "numeric_columns = pos_cash_balance.select_dtypes(include=[np.number]).columns\n",
    "columns_to_transform = [col for col in numeric_columns if col not in exclude_columns]\n",
    "\n",
    "# 3. Terapkan log transformation pada kolom-kolom yang sudah diidentifikasi\n",
    "# Tambahkan 1 untuk menghindari log(0)\n",
    "pos_cash_balance[columns_to_transform] = pos_cash_balance[columns_to_transform].apply(lambda x: np.log1p(x))"
   ]
  },
  {
   "cell_type": "markdown",
   "id": "ba4d47fe-bc5e-4b59-a5df-8bcbe439fe54",
   "metadata": {},
   "source": [
    "## ENCODING"
   ]
  },
  {
   "cell_type": "code",
   "execution_count": 26,
   "id": "c95967f6-91c9-4c58-99e8-e2a3f4411482",
   "metadata": {
    "tags": []
   },
   "outputs": [],
   "source": [
    "# Frequency Encoding\n",
    "# Hitung frekuensi kemunculan untuk setiap kategori di kolom CREDIT_ACTIVE\n",
    "freq_encoding = pos_cash_balance['NAME_CONTRACT_STATUS'].value_counts()\n",
    "\n",
    "# Map frekuensi tersebut ke dalam kolom baru\n",
    "pos_cash_balance['NAME_CONTRACT_STATUS_ENCODE'] = pos_cash_balance['NAME_CONTRACT_STATUS'].map(freq_encoding)"
   ]
  },
  {
   "cell_type": "code",
   "execution_count": 27,
   "id": "1a8c44da-7f93-4b0d-88d3-caf561a061ba",
   "metadata": {
    "tags": []
   },
   "outputs": [],
   "source": [
    "pos_cash_balance = pos_cash_balance.drop(columns=['NAME_CONTRACT_STATUS'])"
   ]
  },
  {
   "cell_type": "code",
   "execution_count": 28,
   "id": "2e0591c2-86aa-4f39-a3e1-381cef2a09db",
   "metadata": {
    "tags": []
   },
   "outputs": [
    {
     "data": {
      "text/html": [
       "<div>\n",
       "<style scoped>\n",
       "    .dataframe tbody tr th:only-of-type {\n",
       "        vertical-align: middle;\n",
       "    }\n",
       "\n",
       "    .dataframe tbody tr th {\n",
       "        vertical-align: top;\n",
       "    }\n",
       "\n",
       "    .dataframe thead th {\n",
       "        text-align: right;\n",
       "    }\n",
       "</style>\n",
       "<table border=\"1\" class=\"dataframe\">\n",
       "  <thead>\n",
       "    <tr style=\"text-align: right;\">\n",
       "      <th></th>\n",
       "      <th>SK_ID_CURR</th>\n",
       "      <th>MONTHS_BALANCE</th>\n",
       "      <th>CNT_INSTALMENT</th>\n",
       "      <th>SK_DPD</th>\n",
       "      <th>SK_DPD_DEF</th>\n",
       "      <th>NAME_CONTRACT_STATUS_ENCODE</th>\n",
       "    </tr>\n",
       "  </thead>\n",
       "  <tbody>\n",
       "    <tr>\n",
       "      <th>0</th>\n",
       "      <td>182943</td>\n",
       "      <td>4.19</td>\n",
       "      <td>3.89</td>\n",
       "      <td>0.00</td>\n",
       "      <td>0.00</td>\n",
       "      <td>9151119</td>\n",
       "    </tr>\n",
       "    <tr>\n",
       "      <th>1</th>\n",
       "      <td>367990</td>\n",
       "      <td>4.16</td>\n",
       "      <td>3.61</td>\n",
       "      <td>0.00</td>\n",
       "      <td>0.00</td>\n",
       "      <td>9151119</td>\n",
       "    </tr>\n",
       "    <tr>\n",
       "      <th>2</th>\n",
       "      <td>397406</td>\n",
       "      <td>4.17</td>\n",
       "      <td>2.56</td>\n",
       "      <td>0.00</td>\n",
       "      <td>0.00</td>\n",
       "      <td>9151119</td>\n",
       "    </tr>\n",
       "    <tr>\n",
       "      <th>3</th>\n",
       "      <td>269225</td>\n",
       "      <td>4.13</td>\n",
       "      <td>3.89</td>\n",
       "      <td>0.00</td>\n",
       "      <td>0.00</td>\n",
       "      <td>9151119</td>\n",
       "    </tr>\n",
       "    <tr>\n",
       "      <th>4</th>\n",
       "      <td>334279</td>\n",
       "      <td>4.13</td>\n",
       "      <td>3.61</td>\n",
       "      <td>0.00</td>\n",
       "      <td>0.00</td>\n",
       "      <td>9151119</td>\n",
       "    </tr>\n",
       "  </tbody>\n",
       "</table>\n",
       "</div>"
      ],
      "text/plain": [
       "   SK_ID_CURR  MONTHS_BALANCE  CNT_INSTALMENT  SK_DPD  SK_DPD_DEF  \\\n",
       "0      182943            4.19            3.89    0.00        0.00   \n",
       "1      367990            4.16            3.61    0.00        0.00   \n",
       "2      397406            4.17            2.56    0.00        0.00   \n",
       "3      269225            4.13            3.89    0.00        0.00   \n",
       "4      334279            4.13            3.61    0.00        0.00   \n",
       "\n",
       "   NAME_CONTRACT_STATUS_ENCODE  \n",
       "0                      9151119  \n",
       "1                      9151119  \n",
       "2                      9151119  \n",
       "3                      9151119  \n",
       "4                      9151119  "
      ]
     },
     "execution_count": 28,
     "metadata": {},
     "output_type": "execute_result"
    }
   ],
   "source": [
    "pos_cash_balance.head()"
   ]
  },
  {
   "cell_type": "markdown",
   "id": "51b49af4-c23e-4c30-992b-e09adcb3106f",
   "metadata": {
    "tags": []
   },
   "source": [
    "## AGGREGASI"
   ]
  },
  {
   "cell_type": "code",
   "execution_count": 30,
   "id": "9effe6a6-52a6-4c4d-a5a2-31ac8afcab70",
   "metadata": {
    "tags": []
   },
   "outputs": [],
   "source": [
    "# Pertama, kelompokkan berdasarkan SK_ID_CURR dan hitung rata-rata untuk kolom lainnya\n",
    "agg_df = pos_cash_balance.groupby('SK_ID_CURR').mean().reset_index()\n",
    "\n",
    "# Selanjutnya, hitung berapa kali setiap SK_ID_CURR muncul dan tambahkan sebagai kolom baru\n",
    "agg_df['FREQ_POSH_CASH'] = pos_cash_balance.groupby('SK_ID_CURR').size().values"
   ]
  },
  {
   "cell_type": "code",
   "execution_count": 31,
   "id": "d8281b7b-7446-4c57-af65-f60c6fe0a3ff",
   "metadata": {
    "tags": []
   },
   "outputs": [],
   "source": [
    "pos_cash_balance = agg_df"
   ]
  },
  {
   "cell_type": "code",
   "execution_count": 32,
   "id": "920ceb41-b2f6-4239-9880-76301dd5a769",
   "metadata": {
    "tags": []
   },
   "outputs": [
    {
     "data": {
      "text/html": [
       "<div>\n",
       "<style scoped>\n",
       "    .dataframe tbody tr th:only-of-type {\n",
       "        vertical-align: middle;\n",
       "    }\n",
       "\n",
       "    .dataframe tbody tr th {\n",
       "        vertical-align: top;\n",
       "    }\n",
       "\n",
       "    .dataframe thead th {\n",
       "        text-align: right;\n",
       "    }\n",
       "</style>\n",
       "<table border=\"1\" class=\"dataframe\">\n",
       "  <thead>\n",
       "    <tr style=\"text-align: right;\">\n",
       "      <th></th>\n",
       "      <th>SK_ID_CURR</th>\n",
       "      <th>MONTHS_BALANCE</th>\n",
       "      <th>CNT_INSTALMENT</th>\n",
       "      <th>SK_DPD</th>\n",
       "      <th>SK_DPD_DEF</th>\n",
       "      <th>NAME_CONTRACT_STATUS_ENCODE</th>\n",
       "      <th>FREQ_POSH_CASH</th>\n",
       "    </tr>\n",
       "  </thead>\n",
       "  <tbody>\n",
       "    <tr>\n",
       "      <th>0</th>\n",
       "      <td>100001</td>\n",
       "      <td>2.43</td>\n",
       "      <td>1.61</td>\n",
       "      <td>0.23</td>\n",
       "      <td>0.23</td>\n",
       "      <td>7283066.56</td>\n",
       "      <td>9</td>\n",
       "    </tr>\n",
       "    <tr>\n",
       "      <th>1</th>\n",
       "      <td>100002</td>\n",
       "      <td>4.46</td>\n",
       "      <td>3.22</td>\n",
       "      <td>0.00</td>\n",
       "      <td>0.00</td>\n",
       "      <td>9151119.00</td>\n",
       "      <td>19</td>\n",
       "    </tr>\n",
       "    <tr>\n",
       "      <th>2</th>\n",
       "      <td>100003</td>\n",
       "      <td>3.84</td>\n",
       "      <td>2.37</td>\n",
       "      <td>0.00</td>\n",
       "      <td>0.00</td>\n",
       "      <td>8550673.57</td>\n",
       "      <td>28</td>\n",
       "    </tr>\n",
       "    <tr>\n",
       "      <th>3</th>\n",
       "      <td>100004</td>\n",
       "      <td>4.27</td>\n",
       "      <td>1.55</td>\n",
       "      <td>0.00</td>\n",
       "      <td>0.00</td>\n",
       "      <td>7049560.00</td>\n",
       "      <td>4</td>\n",
       "    </tr>\n",
       "    <tr>\n",
       "      <th>4</th>\n",
       "      <td>100005</td>\n",
       "      <td>4.34</td>\n",
       "      <td>2.54</td>\n",
       "      <td>0.00</td>\n",
       "      <td>0.00</td>\n",
       "      <td>7562928.55</td>\n",
       "      <td>11</td>\n",
       "    </tr>\n",
       "  </tbody>\n",
       "</table>\n",
       "</div>"
      ],
      "text/plain": [
       "   SK_ID_CURR  MONTHS_BALANCE  CNT_INSTALMENT  SK_DPD  SK_DPD_DEF  \\\n",
       "0      100001            2.43            1.61    0.23        0.23   \n",
       "1      100002            4.46            3.22    0.00        0.00   \n",
       "2      100003            3.84            2.37    0.00        0.00   \n",
       "3      100004            4.27            1.55    0.00        0.00   \n",
       "4      100005            4.34            2.54    0.00        0.00   \n",
       "\n",
       "   NAME_CONTRACT_STATUS_ENCODE  FREQ_POSH_CASH  \n",
       "0                   7283066.56               9  \n",
       "1                   9151119.00              19  \n",
       "2                   8550673.57              28  \n",
       "3                   7049560.00               4  \n",
       "4                   7562928.55              11  "
      ]
     },
     "execution_count": 32,
     "metadata": {},
     "output_type": "execute_result"
    }
   ],
   "source": [
    "pos_cash_balance.head()"
   ]
  },
  {
   "cell_type": "markdown",
   "id": "2eb78a9f-4f82-476d-9ec2-6b239200aa23",
   "metadata": {},
   "source": [
    "## SCALING"
   ]
  },
  {
   "cell_type": "code",
   "execution_count": 33,
   "id": "7aefe4e0-45ef-4563-b790-9ad9a6ba9a37",
   "metadata": {
    "tags": []
   },
   "outputs": [],
   "source": [
    "from sklearn.preprocessing import MinMaxScaler\n",
    "\n",
    "# Identifikasi kolom yang bertipe boolean\n",
    "boolean_columns = pos_cash_balance.select_dtypes(include=['bool']).columns\n",
    "\n",
    "# Tambahkan kolom SK_ID_CURR ke daftar kolom yang akan dikecualikan\n",
    "exclude_columns = ['SK_ID_CURR'] + list(boolean_columns)\n",
    "\n",
    "# Pilih kolom yang bukan boolean dan bukan SK_ID_CURR\n",
    "scaling_columns = pos_cash_balance.columns.difference(exclude_columns)\n",
    "\n",
    "# Inisialisasi MinMaxScaler\n",
    "scaler = MinMaxScaler()\n",
    "\n",
    "# Lakukan scaling hanya pada kolom yang dipilih\n",
    "pos_cash_balance[scaling_columns] = scaler.fit_transform(pos_cash_balance[scaling_columns])"
   ]
  },
  {
   "cell_type": "code",
   "execution_count": 34,
   "id": "15f5132b-81a1-4749-95f8-847a7d053832",
   "metadata": {
    "tags": []
   },
   "outputs": [
    {
     "data": {
      "text/html": [
       "<div>\n",
       "<style scoped>\n",
       "    .dataframe tbody tr th:only-of-type {\n",
       "        vertical-align: middle;\n",
       "    }\n",
       "\n",
       "    .dataframe tbody tr th {\n",
       "        vertical-align: top;\n",
       "    }\n",
       "\n",
       "    .dataframe thead th {\n",
       "        text-align: right;\n",
       "    }\n",
       "</style>\n",
       "<table border=\"1\" class=\"dataframe\">\n",
       "  <thead>\n",
       "    <tr style=\"text-align: right;\">\n",
       "      <th></th>\n",
       "      <th>SK_ID_CURR</th>\n",
       "      <th>MONTHS_BALANCE</th>\n",
       "      <th>CNT_INSTALMENT</th>\n",
       "      <th>SK_DPD</th>\n",
       "      <th>SK_DPD_DEF</th>\n",
       "      <th>NAME_CONTRACT_STATUS_ENCODE</th>\n",
       "      <th>FREQ_POSH_CASH</th>\n",
       "    </tr>\n",
       "  </thead>\n",
       "  <tbody>\n",
       "    <tr>\n",
       "      <th>0</th>\n",
       "      <td>100001</td>\n",
       "      <td>0.53</td>\n",
       "      <td>0.25</td>\n",
       "      <td>0.03</td>\n",
       "      <td>0.03</td>\n",
       "      <td>0.80</td>\n",
       "      <td>0.03</td>\n",
       "    </tr>\n",
       "    <tr>\n",
       "      <th>1</th>\n",
       "      <td>100002</td>\n",
       "      <td>0.98</td>\n",
       "      <td>0.70</td>\n",
       "      <td>0.00</td>\n",
       "      <td>0.00</td>\n",
       "      <td>1.00</td>\n",
       "      <td>0.06</td>\n",
       "    </tr>\n",
       "    <tr>\n",
       "      <th>2</th>\n",
       "      <td>100003</td>\n",
       "      <td>0.84</td>\n",
       "      <td>0.47</td>\n",
       "      <td>0.00</td>\n",
       "      <td>0.00</td>\n",
       "      <td>0.93</td>\n",
       "      <td>0.09</td>\n",
       "    </tr>\n",
       "    <tr>\n",
       "      <th>3</th>\n",
       "      <td>100004</td>\n",
       "      <td>0.94</td>\n",
       "      <td>0.24</td>\n",
       "      <td>0.00</td>\n",
       "      <td>0.00</td>\n",
       "      <td>0.77</td>\n",
       "      <td>0.01</td>\n",
       "    </tr>\n",
       "    <tr>\n",
       "      <th>4</th>\n",
       "      <td>100005</td>\n",
       "      <td>0.95</td>\n",
       "      <td>0.51</td>\n",
       "      <td>0.00</td>\n",
       "      <td>0.00</td>\n",
       "      <td>0.83</td>\n",
       "      <td>0.03</td>\n",
       "    </tr>\n",
       "  </tbody>\n",
       "</table>\n",
       "</div>"
      ],
      "text/plain": [
       "   SK_ID_CURR  MONTHS_BALANCE  CNT_INSTALMENT  SK_DPD  SK_DPD_DEF  \\\n",
       "0      100001            0.53            0.25    0.03        0.03   \n",
       "1      100002            0.98            0.70    0.00        0.00   \n",
       "2      100003            0.84            0.47    0.00        0.00   \n",
       "3      100004            0.94            0.24    0.00        0.00   \n",
       "4      100005            0.95            0.51    0.00        0.00   \n",
       "\n",
       "   NAME_CONTRACT_STATUS_ENCODE  FREQ_POSH_CASH  \n",
       "0                         0.80            0.03  \n",
       "1                         1.00            0.06  \n",
       "2                         0.93            0.09  \n",
       "3                         0.77            0.01  \n",
       "4                         0.83            0.03  "
      ]
     },
     "execution_count": 34,
     "metadata": {},
     "output_type": "execute_result"
    }
   ],
   "source": [
    "pos_cash_balance.head()"
   ]
  },
  {
   "cell_type": "markdown",
   "id": "3b3f1ed4-6a14-45d4-9362-3ca51e0c2771",
   "metadata": {},
   "source": [
    "# SIMPAN DATASET KE CSV"
   ]
  },
  {
   "cell_type": "code",
   "execution_count": 35,
   "id": "9edc1b52-58af-4d30-9972-59c72660c753",
   "metadata": {
    "tags": []
   },
   "outputs": [],
   "source": [
    "# Simpan DataFrame ke file CSV\n",
    "pos_cash_balance.to_csv('code_posh_cash.csv', index=False)"
   ]
  }
 ],
 "metadata": {
  "kernelspec": {
   "display_name": "Python 3 (ipykernel)",
   "language": "python",
   "name": "python3"
  },
  "language_info": {
   "codemirror_mode": {
    "name": "ipython",
    "version": 3
   },
   "file_extension": ".py",
   "mimetype": "text/x-python",
   "name": "python",
   "nbconvert_exporter": "python",
   "pygments_lexer": "ipython3",
   "version": "3.11.5"
  }
 },
 "nbformat": 4,
 "nbformat_minor": 5
}
